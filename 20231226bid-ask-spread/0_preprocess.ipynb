{
 "cells": [
  {
   "cell_type": "code",
   "execution_count": 1,
   "outputs": [],
   "source": [
    "import logging\n",
    "%load_ext autoreload\n",
    "%autoreload 2"
   ],
   "metadata": {
    "collapsed": false
   },
   "id": "c07e9d1ac93188e8"
  },
  {
   "cell_type": "code",
   "execution_count": 260,
   "outputs": [],
   "source": [
    "import pandas as pd\n",
    "import numpy as np\n",
    "import os\n",
    "from typing import Union, List\n",
    "from datetime import datetime, time, timedelta\n",
    "from dateutil.relativedelta import relativedelta\n",
    "from utils import calc_date2maturity,calc_time2maturity\n",
    "\n",
    "\n",
    "from py_vollib_vectorized.implied_volatility import vectorized_implied_volatility\n",
    "\n",
    "root = '/Users/hongyifan/Desktop/work/internship/citic_futures/20231226bid-ask-spread/'\n",
    "data_root = root + 'data/'\n",
    "option_data_root = root + 'data/Option/'\n",
    "future_data_root = root + 'data/Future/'\n",
    "res_root = root + 'res/'\n",
    "\n",
    "trading_dates=np.array(pd.read_csv(data_root + f'trading_dates_cn_2000-01-01_2024-12-31.csv')['trading_dates'].tolist(),dtype=str)"
   ],
   "metadata": {
    "collapsed": false,
    "ExecuteTime": {
     "end_time": "2023-12-27T14:59:13.989555Z",
     "start_time": "2023-12-27T14:59:13.101001Z"
    }
   },
   "id": "28f646487d895298"
  },
  {
   "cell_type": "markdown",
   "source": [
    "# 获取数据\n"
   ],
   "metadata": {
    "collapsed": false
   },
   "id": "54502e3975ebeb49"
  },
  {
   "cell_type": "code",
   "execution_count": null,
   "outputs": [],
   "source": [
    "import rqdatac\n",
    "\n",
    "rq_username = \"license\"\n",
    "rq_password = \"ccU7Yf9dPikhFXtVXsLQZWM0qiY4qxByfselEs2ZWpd01alOGjGpY2R9hXF1_5dG8PKoaJU99ONuKD56i7ySeKpc0lL5G2AP67B5YuhqEH6pUJ-0DSVHVDWLiS4oFqYGmXSNvHU9i0HIScwhQfbwH9gaMwSIkwMStfEvYxV-zxk=a4YImMRv749w2h25tcyJ691JLtZw7QHlqIEcOycx-rZIUQATTdwgF-jcgDxBU5RN09nHRCE2m77u6EDXzStBNPqXzV3gofzOlhXfp9I5o-6bfOPCqUlIFYNt7O3BkppTdRYo2faD3fCI7oc6EKSp64khcP0BaSnNecN1Gm4tJKA=\"\n",
    "\n",
    "\n",
    "def init_rqdatac_account():\n",
    "    \"\"\"\n",
    "    该函数用于初始化米筐账户连接。\n",
    "    \"\"\"\n",
    "    try:\n",
    "        rqdatac.init(\n",
    "            username=rq_username,\n",
    "            password=rq_password,\n",
    "            addr=(\"rqdatad-pro.ricequant.com\", 16011),\n",
    "            use_pool=True,\n",
    "            max_pool_size=1,\n",
    "            auto_load_plugins=False,\n",
    "        )\n",
    "        print(\"米筐账户连接初始化成功\")\n",
    "        quota = rqdatac.user.get_quota()\n",
    "        print('bytes remain', quota['bytes_limit'] - quota['bytes_used'])\n",
    "    except Exception as e:\n",
    "        print(f\"米筐账户连接初始化失败，错误信息：{e}\")\n",
    "        raise e\n",
    "\n",
    "\n",
    "init_rqdatac_account()"
   ],
   "metadata": {
    "collapsed": false
   },
   "id": "5369c0256dc194e"
  },
  {
   "cell_type": "code",
   "execution_count": 129,
   "outputs": [],
   "source": [
    "# 历史和未来交易日信息\n",
    "start = '2000-01-01'\n",
    "end = '2024-12-31'\n",
    "market = 'cn'\n",
    "trading_dates = rqdatac.get_trading_dates(start, end, market=market)\n",
    "pd.Series(trading_dates).astype(str).rename('trading_dates').to_csv(data_root + f'trading_dates_{market}_{start}_{end}.csv',index=False)"
   ],
   "metadata": {
    "collapsed": false,
    "ExecuteTime": {
     "end_time": "2023-12-27T06:50:10.006995Z",
     "start_time": "2023-12-27T06:50:09.956161Z"
    }
   },
   "id": "fe26095dff53c22c"
  },
  {
   "cell_type": "markdown",
   "source": [
    "# 预处理"
   ],
   "metadata": {
    "collapsed": false
   },
   "id": "1bc1a99784679633"
  },
  {
   "cell_type": "markdown",
   "source": [
    "## 基础函数"
   ],
   "metadata": {
    "collapsed": false
   },
   "id": "c56f235fae0f29cc"
  },
  {
   "cell_type": "code",
   "execution_count": 142,
   "outputs": [
    {
     "data": {
      "text/plain": "0"
     },
     "execution_count": 142,
     "metadata": {},
     "output_type": "execute_result"
    }
   ],
   "source": [
    "\n",
    "# def calc_date2maturity(current:Union[str,datetime,np.datetime64],expiry:Union[str,datetime,np.datetime64],trading_dates:Union[np.ndarray,List[str]]=None):\n",
    "#     \"\"\"用于计算current距离expiry在中国交易日历中的天数\n",
    "#     \n",
    "#     Parameters\n",
    "#     ----------\n",
    "#     current : str,\n",
    "#         当前日期\n",
    "#     expiry : str,\n",
    "#         到期日\n",
    "#     trading_dates : np.ndarray,\n",
    "#         预先存成csv的数据。`trading_dates_cn_2000-01-01_2024-12-31.csv`\n",
    "#         \n",
    "#     Returns\n",
    "#     -------\n",
    "# \n",
    "#     \"\"\"\n",
    "#     if isinstance(current,(datetime,np.datetime64)) or isinstance(expiry,(datetime,np.datetime64)): raise NotImplementedError()\n",
    "#     if trading_dates is None: trading_dates=np.array(pd.read_csv(data_root + f'trading_dates_{market}_{start}_{end}.csv')['trading_dates'].tolist(),dtype=str)\n",
    "#     if (not current in trading_dates) or (not expiry in trading_dates): raise  ValueError('输入日期为非交易日')\n",
    "#     \n",
    "#     idx_curr=np.argwhere(trading_dates==current)[0][0]\n",
    "#     idx_exp=np.argwhere(trading_dates==expiry)[0][0]\n",
    "#     return idx_exp-idx_curr\n",
    "\n",
    "# calc_date2maturity(current='2000-01-11',expiry='2000-01-11',trading_dates=trading_dates)"
   ],
   "metadata": {
    "collapsed": false,
    "ExecuteTime": {
     "end_time": "2023-12-27T07:11:00.056626Z",
     "start_time": "2023-12-27T07:10:59.985012Z"
    }
   },
   "id": "62ef8403b55c9837"
  },
  {
   "cell_type": "markdown",
   "source": [
    "## 期权数据"
   ],
   "metadata": {
    "collapsed": false
   },
   "id": "e89a42069a24835d"
  },
  {
   "cell_type": "code",
   "execution_count": 192,
   "outputs": [],
   "source": [
    "# 获取所有日期\n",
    "dates_list=os.listdir(option_data_root)\n",
    "dates_list.remove('.DS_Store')\n",
    "dates_list = sorted(dates_list)\n",
    "dates_list=pd.to_datetime(dates_list,format='%Y-%m-%d').astype(str).tolist()"
   ],
   "metadata": {
    "collapsed": false,
    "ExecuteTime": {
     "end_time": "2023-12-27T08:23:58.067091Z",
     "start_time": "2023-12-27T08:23:58.037414Z"
    }
   },
   "id": "4351f35762744799"
  },
  {
   "cell_type": "code",
   "execution_count": 268,
   "outputs": [
    {
     "name": "stdout",
     "output_type": "stream",
     "text": [
      "/Users/hongyifan/Desktop/work/internship/citic_futures/20231226bid-ask-spread/data/Option/20230801/\n"
     ]
    },
    {
     "data": {
      "text/plain": "['10005105.csv',\n '10005106.csv',\n '10005107.csv',\n '10005108.csv',\n '10005109.csv',\n '10005110.csv',\n '10005111.csv',\n '10005112.csv',\n '10005113.csv',\n '10005114.csv',\n '10005115.csv',\n '10005116.csv',\n '10005117.csv',\n '10005118.csv',\n '10005119.csv',\n '10005120.csv',\n '10005121.csv',\n '10005122.csv',\n '10005123.csv',\n '10005124.csv',\n '10005125.csv',\n '10005126.csv',\n '10005127.csv',\n '10005128.csv',\n '10005129.csv',\n '10005130.csv',\n '10005131.csv',\n '10005132.csv',\n '10005133.csv',\n '10005134.csv',\n '10005135.csv',\n '10005136.csv',\n '10005137.csv',\n '10005138.csv',\n '10005139.csv',\n '10005140.csv',\n '10005141.csv',\n '10005142.csv',\n '10005143.csv',\n '10005144.csv',\n '10005145.csv',\n '10005146.csv',\n '10005147.csv',\n '10005148.csv',\n '10005149.csv',\n '10005150.csv',\n '10005151.csv',\n '10005152.csv',\n '10005153.csv',\n '10005154.csv',\n '10005155.csv',\n '10005156.csv',\n '10005157.csv',\n '10005158.csv',\n '10005159.csv',\n '10005160.csv',\n '10005167.csv',\n '10005168.csv',\n '10005169.csv',\n '10005170.csv',\n '10005171.csv',\n '10005172.csv',\n '10005173.csv',\n '10005174.csv',\n '10005181.csv',\n '10005182.csv',\n '10005247.csv',\n '10005248.csv',\n '10005255.csv',\n '10005256.csv',\n '10005259.csv',\n '10005260.csv',\n '10005329.csv',\n '10005330.csv',\n '10005331.csv',\n '10005332.csv',\n '10005333.csv',\n '10005334.csv',\n '10005335.csv',\n '10005336.csv',\n '10005337.csv',\n '10005338.csv',\n '10005339.csv',\n '10005340.csv',\n '10005341.csv',\n '10005342.csv',\n '10005343.csv',\n '10005344.csv',\n '10005345.csv',\n '10005346.csv',\n '10005347.csv',\n '10005348.csv',\n '10005349.csv',\n '10005350.csv',\n '10005351.csv',\n '10005352.csv',\n '10005353.csv',\n '10005354.csv',\n '10005355.csv',\n '10005356.csv',\n '10005357.csv',\n '10005358.csv',\n '10005359.csv',\n '10005360.csv',\n '10005361.csv',\n '10005362.csv',\n '10005363.csv',\n '10005364.csv',\n '10005365.csv',\n '10005366.csv',\n '10005367.csv',\n '10005368.csv',\n '10005369.csv',\n '10005370.csv',\n '10005371.csv',\n '10005372.csv',\n '10005373.csv',\n '10005374.csv',\n '10005375.csv',\n '10005376.csv',\n '10005377.csv',\n '10005378.csv',\n '10005379.csv',\n '10005380.csv',\n '10005381.csv',\n '10005382.csv',\n '10005383.csv',\n '10005384.csv',\n '10005385.csv',\n '10005386.csv',\n '10005387.csv',\n '10005388.csv',\n '10005391.csv',\n '10005392.csv',\n '10005395.csv',\n '10005396.csv',\n '10005397.csv',\n '10005398.csv',\n '10005457.csv',\n '10005458.csv',\n '10005459.csv',\n '10005460.csv',\n '10005465.csv',\n '10005466.csv',\n '10005467.csv',\n '10005468.csv',\n '10005473.csv',\n '10005474.csv',\n '10005475.csv',\n '10005476.csv',\n '10005643.csv',\n '10005644.csv',\n '10005645.csv',\n '10005646.csv',\n '10005647.csv',\n '10005648.csv',\n '10005649.csv',\n '10005650.csv',\n '10005651.csv',\n '10005652.csv',\n '10005653.csv',\n '10005654.csv',\n '10005655.csv',\n '10005656.csv',\n '10005657.csv',\n '10005658.csv',\n '10005659.csv',\n '10005660.csv',\n '10005661.csv',\n '10005662.csv',\n '10005663.csv',\n '10005664.csv',\n '10005665.csv',\n '10005666.csv',\n '10005667.csv',\n '10005668.csv',\n '10005669.csv',\n '10005670.csv',\n '10005671.csv',\n '10005672.csv',\n '10005673.csv',\n '10005674.csv',\n '10005675.csv',\n '10005676.csv',\n '10005677.csv',\n '10005678.csv',\n '10005679.csv',\n '10005680.csv',\n '10005681.csv',\n '10005682.csv',\n '10005683.csv',\n '10005684.csv',\n '10005685.csv',\n '10005686.csv',\n '10005687.csv',\n '10005688.csv',\n '10005689.csv',\n '10005690.csv',\n '10005691.csv',\n '10005692.csv',\n '10005693.csv',\n '10005694.csv',\n '10005695.csv',\n '10005696.csv',\n '10005733.csv',\n '10005734.csv',\n '10005735.csv',\n '10005736.csv',\n '10005745.csv',\n '10005746.csv',\n '10005763.csv',\n '10005764.csv',\n '10005765.csv',\n '10005766.csv',\n '10005767.csv',\n '10005768.csv',\n '10005769.csv',\n '10005770.csv',\n '10005771.csv',\n '10005772.csv',\n '10005773.csv',\n '10005774.csv',\n '10005775.csv',\n '10005776.csv',\n '10005777.csv',\n '10005778.csv',\n '10005779.csv',\n '10005780.csv',\n '10005781.csv',\n '10005782.csv',\n '10005783.csv',\n '10005784.csv',\n '10005785.csv',\n '10005786.csv',\n '10005787.csv',\n '10005788.csv',\n '10005789.csv',\n '10005790.csv',\n '10005791.csv',\n '10005792.csv',\n '10005793.csv',\n '10005794.csv',\n '10005795.csv',\n '10005796.csv',\n '10005797.csv',\n '10005798.csv',\n '10005799.csv',\n '10005800.csv',\n '10005801.csv',\n '10005802.csv',\n '10005803.csv',\n '10005804.csv',\n '10005805.csv',\n '10005806.csv',\n '10005807.csv',\n '10005808.csv',\n '10005809.csv',\n '10005810.csv',\n '10005811.csv',\n '10005812.csv',\n '10005813.csv',\n '10005814.csv',\n '10005815.csv',\n '10005816.csv',\n '10005817.csv',\n '10005818.csv',\n '10005855.csv',\n '10005856.csv',\n '10005857.csv',\n '10005858.csv',\n '10005859.csv',\n '10005860.csv',\n '10005861.csv',\n '10005862.csv',\n '10005863.csv',\n '10005864.csv',\n '10005865.csv',\n '10005866.csv',\n '10005867.csv',\n '10005868.csv',\n '10005869.csv',\n '10005870.csv']"
     },
     "execution_count": 268,
     "metadata": {},
     "output_type": "execute_result"
    }
   ],
   "source": [
    "# 遍历所有csv计算iv\n",
    "option_info_df = pd.read_csv(data_root + 'etf_options_basic_info.csv')\n",
    "option_info_df['code'] = option_info_df['code'].apply(lambda x: x[:-5])\n",
    "option_info_df = option_info_df.set_index('code').sort_index()\n",
    "\n",
    "exclude = ['510050.csv', '510300.csv', '510500.csv']\n",
    "files=[]\n",
    "for date_ in dates_list:\n",
    "    print(option_data_root+date_.replace('-','')+'/')\n",
    "    for r,_,f in os.walk(option_data_root+date_.replace('-','')+'/'):\n",
    "        for ff in f:\n",
    "            # 去掉中证1000股指期权\n",
    "            if not ff.startswith('.') and ff not in exclude and not ff.startswith('MO'):\n",
    "                # print(r,ff)\n",
    "                files.append(ff)\n",
    "    #             option_df = pd.read_csv(os.path.join(r, ff))\n",
    "    #             break\n",
    "    break\n",
    "sorted(list(set(files)))"
   ],
   "metadata": {
    "collapsed": false,
    "ExecuteTime": {
     "end_time": "2023-12-28T00:39:11.937336Z",
     "start_time": "2023-12-28T00:39:11.829686Z"
    }
   },
   "id": "3cb3003b3c64c047"
  },
  {
   "cell_type": "code",
   "execution_count": 212,
   "outputs": [
    {
     "data": {
      "text/plain": "('2023-08-01', '10005735')"
     },
     "execution_count": 212,
     "metadata": {},
     "output_type": "execute_result"
    }
   ],
   "source": [
    "option_symbol=files[0][:-4]\n",
    "date_,option_symbol"
   ],
   "metadata": {
    "collapsed": false,
    "ExecuteTime": {
     "end_time": "2023-12-27T08:37:00.872668Z",
     "start_time": "2023-12-27T08:37:00.835518Z"
    }
   },
   "id": "771924d777846539"
  },
  {
   "cell_type": "code",
   "execution_count": 217,
   "outputs": [
    {
     "data": {
      "text/plain": "'2023-08-23'"
     },
     "execution_count": 217,
     "metadata": {},
     "output_type": "execute_result"
    }
   ],
   "source": [
    "expire_date=option_info_df.loc[option_symbol,'expire_date']\n",
    "expire_date"
   ],
   "metadata": {
    "collapsed": false,
    "ExecuteTime": {
     "end_time": "2023-12-27T08:38:33.351968Z",
     "start_time": "2023-12-27T08:38:33.314283Z"
    }
   },
   "id": "ffd76cae10b0e42b"
  },
  {
   "cell_type": "code",
   "execution_count": 222,
   "outputs": [
    {
     "data": {
      "text/plain": "                 exchangeTime                  serverTime  instrumentID  \\\n12    2023-08-01 09:25:00.175  2023-08-01 09:25:00.097088      10005735   \n13    2023-08-01 09:25:17.400  2023-08-01 09:25:17.321283      10005735   \n14    2023-08-01 09:25:47.399  2023-08-01 09:25:47.318026      10005735   \n15    2023-08-01 09:26:17.399  2023-08-01 09:26:17.319109      10005735   \n16    2023-08-01 09:26:47.400  2023-08-01 09:26:47.317038      10005735   \n...                       ...                         ...           ...   \n4191  2023-08-01 15:02:47.400  2023-08-01 15:02:46.888405      10005735   \n4192  2023-08-01 15:03:17.399  2023-08-01 15:03:16.884883      10005735   \n4193  2023-08-01 15:03:47.400  2023-08-01 15:03:46.886231      10005735   \n4194  2023-08-01 15:04:17.399  2023-08-01 15:04:16.885815      10005735   \n4195  2023-08-01 15:04:47.400  2023-08-01 15:04:46.882022      10005735   \n\n     status  source    last    bid1    bid2    bid3    bid4  ...  bsize4  \\\n12        C     NaN  0.0000  0.0008  0.0007  0.0005  0.0001  ...      22   \n13        C     NaN  0.0000  0.0008  0.0007  0.0005  0.0001  ...      22   \n14        C     NaN  0.0000  0.0008  0.0007  0.0005  0.0001  ...      22   \n15        C     NaN  0.0000  0.0008  0.0007  0.0005  0.0001  ...      22   \n16        C     NaN  0.0000  0.0008  0.0007  0.0005  0.0001  ...      22   \n...     ...     ...     ...     ...     ...     ...     ...  ...     ...   \n4191      E     NaN  0.0009  0.0008  0.0006  0.0004  0.0001  ...      21   \n4192      E     NaN  0.0009  0.0008  0.0006  0.0004  0.0001  ...      21   \n4193      E     NaN  0.0009  0.0008  0.0006  0.0004  0.0001  ...      21   \n4194      E     NaN  0.0009  0.0008  0.0006  0.0004  0.0001  ...      21   \n4195      E     NaN  0.0009  0.0008  0.0006  0.0004  0.0001  ...      21   \n\n      bsize5  asize1  asize2  asize3  asize4  asize5  volume  turnover  \\\n12         0      40      72     135      18      18       0       0.0   \n13         0      40      72     135      18      18       0       0.0   \n14         0      40      72     135      18      18       0       0.0   \n15         0      40      72     135      18      18       0       0.0   \n16         0      40      72     135      18      18       0       0.0   \n...      ...     ...     ...     ...     ...     ...     ...       ...   \n4191       0      21      30      13      15      17     930    8951.0   \n4192       0      21      30      13      15      17     930    8951.0   \n4193       0      21      30      13      15      17     930    8951.0   \n4194       0      21      30      13      15      17     930    8951.0   \n4195       0      21      30      13      15      17     930    8951.0   \n\n      auctionLabel  \n12           False  \n13           False  \n14           False  \n15           False  \n16           False  \n...            ...  \n4191         False  \n4192         False  \n4193         False  \n4194         False  \n4195         False  \n\n[4177 rows x 29 columns]",
      "text/html": "<div>\n<style scoped>\n    .dataframe tbody tr th:only-of-type {\n        vertical-align: middle;\n    }\n\n    .dataframe tbody tr th {\n        vertical-align: top;\n    }\n\n    .dataframe thead th {\n        text-align: right;\n    }\n</style>\n<table border=\"1\" class=\"dataframe\">\n  <thead>\n    <tr style=\"text-align: right;\">\n      <th></th>\n      <th>exchangeTime</th>\n      <th>serverTime</th>\n      <th>instrumentID</th>\n      <th>status</th>\n      <th>source</th>\n      <th>last</th>\n      <th>bid1</th>\n      <th>bid2</th>\n      <th>bid3</th>\n      <th>bid4</th>\n      <th>...</th>\n      <th>bsize4</th>\n      <th>bsize5</th>\n      <th>asize1</th>\n      <th>asize2</th>\n      <th>asize3</th>\n      <th>asize4</th>\n      <th>asize5</th>\n      <th>volume</th>\n      <th>turnover</th>\n      <th>auctionLabel</th>\n    </tr>\n  </thead>\n  <tbody>\n    <tr>\n      <th>12</th>\n      <td>2023-08-01 09:25:00.175</td>\n      <td>2023-08-01 09:25:00.097088</td>\n      <td>10005735</td>\n      <td>C</td>\n      <td>NaN</td>\n      <td>0.0000</td>\n      <td>0.0008</td>\n      <td>0.0007</td>\n      <td>0.0005</td>\n      <td>0.0001</td>\n      <td>...</td>\n      <td>22</td>\n      <td>0</td>\n      <td>40</td>\n      <td>72</td>\n      <td>135</td>\n      <td>18</td>\n      <td>18</td>\n      <td>0</td>\n      <td>0.0</td>\n      <td>False</td>\n    </tr>\n    <tr>\n      <th>13</th>\n      <td>2023-08-01 09:25:17.400</td>\n      <td>2023-08-01 09:25:17.321283</td>\n      <td>10005735</td>\n      <td>C</td>\n      <td>NaN</td>\n      <td>0.0000</td>\n      <td>0.0008</td>\n      <td>0.0007</td>\n      <td>0.0005</td>\n      <td>0.0001</td>\n      <td>...</td>\n      <td>22</td>\n      <td>0</td>\n      <td>40</td>\n      <td>72</td>\n      <td>135</td>\n      <td>18</td>\n      <td>18</td>\n      <td>0</td>\n      <td>0.0</td>\n      <td>False</td>\n    </tr>\n    <tr>\n      <th>14</th>\n      <td>2023-08-01 09:25:47.399</td>\n      <td>2023-08-01 09:25:47.318026</td>\n      <td>10005735</td>\n      <td>C</td>\n      <td>NaN</td>\n      <td>0.0000</td>\n      <td>0.0008</td>\n      <td>0.0007</td>\n      <td>0.0005</td>\n      <td>0.0001</td>\n      <td>...</td>\n      <td>22</td>\n      <td>0</td>\n      <td>40</td>\n      <td>72</td>\n      <td>135</td>\n      <td>18</td>\n      <td>18</td>\n      <td>0</td>\n      <td>0.0</td>\n      <td>False</td>\n    </tr>\n    <tr>\n      <th>15</th>\n      <td>2023-08-01 09:26:17.399</td>\n      <td>2023-08-01 09:26:17.319109</td>\n      <td>10005735</td>\n      <td>C</td>\n      <td>NaN</td>\n      <td>0.0000</td>\n      <td>0.0008</td>\n      <td>0.0007</td>\n      <td>0.0005</td>\n      <td>0.0001</td>\n      <td>...</td>\n      <td>22</td>\n      <td>0</td>\n      <td>40</td>\n      <td>72</td>\n      <td>135</td>\n      <td>18</td>\n      <td>18</td>\n      <td>0</td>\n      <td>0.0</td>\n      <td>False</td>\n    </tr>\n    <tr>\n      <th>16</th>\n      <td>2023-08-01 09:26:47.400</td>\n      <td>2023-08-01 09:26:47.317038</td>\n      <td>10005735</td>\n      <td>C</td>\n      <td>NaN</td>\n      <td>0.0000</td>\n      <td>0.0008</td>\n      <td>0.0007</td>\n      <td>0.0005</td>\n      <td>0.0001</td>\n      <td>...</td>\n      <td>22</td>\n      <td>0</td>\n      <td>40</td>\n      <td>72</td>\n      <td>135</td>\n      <td>18</td>\n      <td>18</td>\n      <td>0</td>\n      <td>0.0</td>\n      <td>False</td>\n    </tr>\n    <tr>\n      <th>...</th>\n      <td>...</td>\n      <td>...</td>\n      <td>...</td>\n      <td>...</td>\n      <td>...</td>\n      <td>...</td>\n      <td>...</td>\n      <td>...</td>\n      <td>...</td>\n      <td>...</td>\n      <td>...</td>\n      <td>...</td>\n      <td>...</td>\n      <td>...</td>\n      <td>...</td>\n      <td>...</td>\n      <td>...</td>\n      <td>...</td>\n      <td>...</td>\n      <td>...</td>\n      <td>...</td>\n    </tr>\n    <tr>\n      <th>4191</th>\n      <td>2023-08-01 15:02:47.400</td>\n      <td>2023-08-01 15:02:46.888405</td>\n      <td>10005735</td>\n      <td>E</td>\n      <td>NaN</td>\n      <td>0.0009</td>\n      <td>0.0008</td>\n      <td>0.0006</td>\n      <td>0.0004</td>\n      <td>0.0001</td>\n      <td>...</td>\n      <td>21</td>\n      <td>0</td>\n      <td>21</td>\n      <td>30</td>\n      <td>13</td>\n      <td>15</td>\n      <td>17</td>\n      <td>930</td>\n      <td>8951.0</td>\n      <td>False</td>\n    </tr>\n    <tr>\n      <th>4192</th>\n      <td>2023-08-01 15:03:17.399</td>\n      <td>2023-08-01 15:03:16.884883</td>\n      <td>10005735</td>\n      <td>E</td>\n      <td>NaN</td>\n      <td>0.0009</td>\n      <td>0.0008</td>\n      <td>0.0006</td>\n      <td>0.0004</td>\n      <td>0.0001</td>\n      <td>...</td>\n      <td>21</td>\n      <td>0</td>\n      <td>21</td>\n      <td>30</td>\n      <td>13</td>\n      <td>15</td>\n      <td>17</td>\n      <td>930</td>\n      <td>8951.0</td>\n      <td>False</td>\n    </tr>\n    <tr>\n      <th>4193</th>\n      <td>2023-08-01 15:03:47.400</td>\n      <td>2023-08-01 15:03:46.886231</td>\n      <td>10005735</td>\n      <td>E</td>\n      <td>NaN</td>\n      <td>0.0009</td>\n      <td>0.0008</td>\n      <td>0.0006</td>\n      <td>0.0004</td>\n      <td>0.0001</td>\n      <td>...</td>\n      <td>21</td>\n      <td>0</td>\n      <td>21</td>\n      <td>30</td>\n      <td>13</td>\n      <td>15</td>\n      <td>17</td>\n      <td>930</td>\n      <td>8951.0</td>\n      <td>False</td>\n    </tr>\n    <tr>\n      <th>4194</th>\n      <td>2023-08-01 15:04:17.399</td>\n      <td>2023-08-01 15:04:16.885815</td>\n      <td>10005735</td>\n      <td>E</td>\n      <td>NaN</td>\n      <td>0.0009</td>\n      <td>0.0008</td>\n      <td>0.0006</td>\n      <td>0.0004</td>\n      <td>0.0001</td>\n      <td>...</td>\n      <td>21</td>\n      <td>0</td>\n      <td>21</td>\n      <td>30</td>\n      <td>13</td>\n      <td>15</td>\n      <td>17</td>\n      <td>930</td>\n      <td>8951.0</td>\n      <td>False</td>\n    </tr>\n    <tr>\n      <th>4195</th>\n      <td>2023-08-01 15:04:47.400</td>\n      <td>2023-08-01 15:04:46.882022</td>\n      <td>10005735</td>\n      <td>E</td>\n      <td>NaN</td>\n      <td>0.0009</td>\n      <td>0.0008</td>\n      <td>0.0006</td>\n      <td>0.0004</td>\n      <td>0.0001</td>\n      <td>...</td>\n      <td>21</td>\n      <td>0</td>\n      <td>21</td>\n      <td>30</td>\n      <td>13</td>\n      <td>15</td>\n      <td>17</td>\n      <td>930</td>\n      <td>8951.0</td>\n      <td>False</td>\n    </tr>\n  </tbody>\n</table>\n<p>4177 rows × 29 columns</p>\n</div>"
     },
     "execution_count": 222,
     "metadata": {},
     "output_type": "execute_result"
    }
   ],
   "source": [
    "option_price_df=pd.read_csv(option_data_root+date_.replace('-','')+'/'+f'{option_symbol}.csv')\n",
    "option_price_df=option_price_df.loc[~option_price_df['auctionLabel']]\n",
    "option_price_df"
   ],
   "metadata": {
    "collapsed": false,
    "ExecuteTime": {
     "end_time": "2023-12-27T08:45:34.796030Z",
     "start_time": "2023-12-27T08:45:34.714271Z"
    }
   },
   "id": "f3c8095f5376c634"
  },
  {
   "cell_type": "code",
   "execution_count": 249,
   "outputs": [],
   "source": [
    "\n",
    "\n",
    "# def calc_time2maturity(current: Union[pd.DatetimeIndex,pd.Series], expiry: Union[pd.DatetimeIndex],days2maturity=None,annualized=240):\n",
    "#     \"\"\"\n",
    "#     \n",
    "#     Parameters\n",
    "#     ----------\n",
    "#     current : \n",
    "#     expiry : \n",
    "#     days2maturity : \n",
    "#     annualized : Optional, int,\n",
    "#         一年总共的交易日，用于将t2m年化\n",
    "# \n",
    "#     Returns\n",
    "#     -------\n",
    "# \n",
    "#     \"\"\"\n",
    "#     if not isinstance(current,(list)):\n",
    "#         # 现阶段仅支持current和expiry都在同一天的计算\n",
    "#         assert days2maturity is not None\n",
    "#         # 计算time to maturity\n",
    "#         if days2maturity is not None:\n",
    "#             if len(set(expiry.date).difference(set(current.date)))>=1:\n",
    "#                 raise ValueError(f'input has different dates {set(expiry.date).difference(set(current.date))}, conflict with param `days2maturity`')\n",
    "#         elif days2maturity is None:\n",
    "#             days2maturity = expiry.date - current.date  # 计算有多少天?\n",
    "#             \n",
    "#         # 计算time to maturity\n",
    "#         seconds2maturity = (expiry-current).total_seconds() +(expiry-current).microseconds/1000000 # 计算距离maturity还有多少秒\n",
    "#         seconds2maturity=np.array(seconds2maturity)\n",
    "#         is_morning = seconds2maturity >2*60*60\n",
    "#         seconds2maturity[is_morning]=seconds2maturity[is_morning]-1.5*60*60\n",
    "#         \n",
    "#         time2maturity = seconds2maturity / (4 * 60 * 60) + days2maturity\n",
    "#         if annualized is not None:\n",
    "#             time2maturity /= annualized\n",
    "#         time2maturity = np.where(time2maturity < 1e-3, 1e-3,\n",
    "#                                  time2maturity)  # For small TTEs, use a small value (1e-3).即最后一小时的TTM都视为1h\n",
    "#         return time2maturity\n",
    "#     else:\n",
    "#         raise NotImplementedError()"
   ],
   "metadata": {
    "collapsed": false,
    "ExecuteTime": {
     "end_time": "2023-12-27T08:56:12.531683Z",
     "start_time": "2023-12-27T08:56:12.439896Z"
    }
   },
   "id": "365a9880f8aa918b"
  },
  {
   "cell_type": "code",
   "execution_count": 263,
   "outputs": [
    {
     "ename": "AttributeError",
     "evalue": "module 'backtest.config' has no attribute 'strip_time'",
     "output_type": "error",
     "traceback": [
      "\u001B[0;31m---------------------------------------------------------------------------\u001B[0m",
      "\u001B[0;31mAttributeError\u001B[0m                            Traceback (most recent call last)",
      "Cell \u001B[0;32mIn[263], line 9\u001B[0m\n\u001B[1;32m      7\u001B[0m option_price_df\u001B[38;5;241m=\u001B[39mpd\u001B[38;5;241m.\u001B[39mread_csv(option_data_root\u001B[38;5;241m+\u001B[39mdate_\u001B[38;5;241m.\u001B[39mreplace(\u001B[38;5;124m'\u001B[39m\u001B[38;5;124m-\u001B[39m\u001B[38;5;124m'\u001B[39m,\u001B[38;5;124m'\u001B[39m\u001B[38;5;124m'\u001B[39m)\u001B[38;5;241m+\u001B[39m\u001B[38;5;124m'\u001B[39m\u001B[38;5;124m/\u001B[39m\u001B[38;5;124m'\u001B[39m\u001B[38;5;241m+\u001B[39m\u001B[38;5;124mf\u001B[39m\u001B[38;5;124m'\u001B[39m\u001B[38;5;132;01m{\u001B[39;00moption_symbol\u001B[38;5;132;01m}\u001B[39;00m\u001B[38;5;124m.csv\u001B[39m\u001B[38;5;124m'\u001B[39m,parse_dates\u001B[38;5;241m=\u001B[39m\u001B[38;5;28;01mTrue\u001B[39;00m,index_col\u001B[38;5;241m=\u001B[39m\u001B[38;5;124m'\u001B[39m\u001B[38;5;124mserverTime\u001B[39m\u001B[38;5;124m'\u001B[39m)\n\u001B[1;32m      8\u001B[0m option_price_df\u001B[38;5;241m=\u001B[39moption_price_df\u001B[38;5;241m.\u001B[39mloc[\u001B[38;5;241m~\u001B[39moption_price_df[\u001B[38;5;124m'\u001B[39m\u001B[38;5;124mauctionLabel\u001B[39m\u001B[38;5;124m'\u001B[39m]]\n\u001B[0;32m----> 9\u001B[0m option_price_df\u001B[38;5;241m=\u001B[39m\u001B[43mltp\u001B[49m\u001B[38;5;241;43m.\u001B[39;49m\u001B[43mdel_untrade_time\u001B[49m\u001B[43m(\u001B[49m\u001B[43moption_price_df\u001B[49m\u001B[43m)\u001B[49m\n\u001B[1;32m     11\u001B[0m expiry\u001B[38;5;241m=\u001B[39mpd\u001B[38;5;241m.\u001B[39mto_datetime([date_\u001B[38;5;241m+\u001B[39m\u001B[38;5;124m'\u001B[39m\u001B[38;5;124m 15:00:00.000000\u001B[39m\u001B[38;5;124m'\u001B[39m]\u001B[38;5;241m*\u001B[39m\u001B[38;5;28mlen\u001B[39m(option_price_df))\n\u001B[1;32m     12\u001B[0m current\u001B[38;5;241m=\u001B[39mpd\u001B[38;5;241m.\u001B[39mDatetimeIndex(pd\u001B[38;5;241m.\u001B[39mto_datetime(option_price_df[\u001B[38;5;124m'\u001B[39m\u001B[38;5;124mserverTime\u001B[39m\u001B[38;5;124m'\u001B[39m]))\n",
      "File \u001B[0;32m~/Desktop/work/internship/citic_futures/20231226bid-ask-spread/backtest/preprocessors/preprocess.py:656\u001B[0m, in \u001B[0;36mLobTimePreprocessor.del_untrade_time\u001B[0;34m(df, cut_tail, strip, drop_last_row, split_df)\u001B[0m\n\u001B[1;32m    654\u001B[0m     \u001B[38;5;28;01mreturn\u001B[39;00m [_meta(_df, cut_tail\u001B[38;5;241m=\u001B[39mcut_tail, strip\u001B[38;5;241m=\u001B[39mstrip, split_df\u001B[38;5;241m=\u001B[39msplit_df) \u001B[38;5;28;01mfor\u001B[39;00m _df \u001B[38;5;129;01min\u001B[39;00m df]\n\u001B[1;32m    655\u001B[0m \u001B[38;5;28;01melif\u001B[39;00m \u001B[38;5;28misinstance\u001B[39m(df, pd\u001B[38;5;241m.\u001B[39mDataFrame) \u001B[38;5;129;01mor\u001B[39;00m \u001B[38;5;28misinstance\u001B[39m(df, pd\u001B[38;5;241m.\u001B[39mSeries):\n\u001B[0;32m--> 656\u001B[0m     \u001B[38;5;28;01mreturn\u001B[39;00m \u001B[43m_meta\u001B[49m\u001B[43m(\u001B[49m\u001B[43mdf\u001B[49m\u001B[43m,\u001B[49m\u001B[43m \u001B[49m\u001B[43mcut_tail\u001B[49m\u001B[38;5;241;43m=\u001B[39;49m\u001B[43mcut_tail\u001B[49m\u001B[43m,\u001B[49m\u001B[43m \u001B[49m\u001B[43mstrip\u001B[49m\u001B[38;5;241;43m=\u001B[39;49m\u001B[43mstrip\u001B[49m\u001B[43m,\u001B[49m\u001B[43m \u001B[49m\u001B[43msplit_df\u001B[49m\u001B[38;5;241;43m=\u001B[39;49m\u001B[43msplit_df\u001B[49m\u001B[43m)\u001B[49m\n",
      "File \u001B[0;32m~/Desktop/work/internship/citic_futures/20231226bid-ask-spread/backtest/preprocessors/preprocess.py:621\u001B[0m, in \u001B[0;36mLobTimePreprocessor.del_untrade_time.<locals>._meta\u001B[0;34m(df, cut_tail, strip, split_df)\u001B[0m\n\u001B[1;32m    619\u001B[0m original_date \u001B[38;5;241m=\u001B[39m config\u001B[38;5;241m.\u001B[39mdate\n\u001B[1;32m    620\u001B[0m current_yyyy, current_mm, current_dd \u001B[38;5;241m=\u001B[39m \u001B[38;5;28mstr\u001B[39m(df\u001B[38;5;241m.\u001B[39mindex[\u001B[38;5;241m0\u001B[39m]\u001B[38;5;241m.\u001B[39mdate())\u001B[38;5;241m.\u001B[39msplit(\u001B[38;5;124m'\u001B[39m\u001B[38;5;124m-\u001B[39m\u001B[38;5;124m'\u001B[39m)\n\u001B[0;32m--> 621\u001B[0m \u001B[43mupdate_date\u001B[49m\u001B[43m(\u001B[49m\u001B[43mcurrent_yyyy\u001B[49m\u001B[43m,\u001B[49m\u001B[43m \u001B[49m\u001B[43mcurrent_mm\u001B[49m\u001B[43m,\u001B[49m\u001B[43m \u001B[49m\u001B[43mcurrent_dd\u001B[49m\u001B[43m)\u001B[49m\n\u001B[1;32m    622\u001B[0m \u001B[38;5;66;03m# date_today=df.index[0].date()\u001B[39;00m\n\u001B[1;32m    623\u001B[0m \u001B[38;5;66;03m# self.daily_timedeltas\u001B[39;00m\n\u001B[1;32m    625\u001B[0m start_time \u001B[38;5;241m=\u001B[39m config\u001B[38;5;241m.\u001B[39mimportant_times[\u001B[38;5;124m'\u001B[39m\u001B[38;5;124mcontinues_auction_am_start\u001B[39m\u001B[38;5;124m'\u001B[39m]\n",
      "File \u001B[0;32m~/Desktop/work/internship/citic_futures/20231226bid-ask-spread/backtest/support.py:151\u001B[0m, in \u001B[0;36mupdate_date\u001B[0;34m(yyyy, mm, dd)\u001B[0m\n\u001B[1;32m    149\u001B[0m start \u001B[38;5;241m=\u001B[39m pd\u001B[38;5;241m.\u001B[39mto_datetime(\u001B[38;5;124mf\u001B[39m\u001B[38;5;124m'\u001B[39m\u001B[38;5;132;01m{\u001B[39;00mconfig\u001B[38;5;241m.\u001B[39mdate1\u001B[38;5;132;01m}\u001B[39;00m\u001B[38;5;124m 09:30:00.000\u001B[39m\u001B[38;5;124m'\u001B[39m)\n\u001B[1;32m    150\u001B[0m end \u001B[38;5;241m=\u001B[39m pd\u001B[38;5;241m.\u001B[39mto_datetime(\u001B[38;5;124mf\u001B[39m\u001B[38;5;124m'\u001B[39m\u001B[38;5;132;01m{\u001B[39;00mconfig\u001B[38;5;241m.\u001B[39mdate1\u001B[38;5;132;01m}\u001B[39;00m\u001B[38;5;124m 14:57:00.000\u001B[39m\u001B[38;5;124m'\u001B[39m)\n\u001B[0;32m--> 151\u001B[0m \u001B[38;5;28;01mif\u001B[39;00m \u001B[43mconfig\u001B[49m\u001B[38;5;241;43m.\u001B[39;49m\u001B[43mstrip_time\u001B[49m \u001B[38;5;129;01mis\u001B[39;00m \u001B[38;5;129;01mnot\u001B[39;00m \u001B[38;5;28;01mNone\u001B[39;00m:\n\u001B[1;32m    152\u001B[0m     start \u001B[38;5;241m+\u001B[39m\u001B[38;5;241m=\u001B[39m config\u001B[38;5;241m.\u001B[39mstrip_timedelta\n\u001B[1;32m    153\u001B[0m     end \u001B[38;5;241m=\u001B[39m \u001B[38;5;28mmin\u001B[39m(end, pd\u001B[38;5;241m.\u001B[39mto_datetime(\u001B[38;5;124mf\u001B[39m\u001B[38;5;124m'\u001B[39m\u001B[38;5;132;01m{\u001B[39;00mconfig\u001B[38;5;241m.\u001B[39mdate1\u001B[38;5;132;01m}\u001B[39;00m\u001B[38;5;124m 15:00:00.000\u001B[39m\u001B[38;5;124m'\u001B[39m) \u001B[38;5;241m-\u001B[39m config\u001B[38;5;241m.\u001B[39mstrip_timedelta)\n",
      "\u001B[0;31mAttributeError\u001B[0m: module 'backtest.config' has no attribute 'strip_time'"
     ]
    }
   ],
   "source": [
    "from backtest.preprocessors.preprocess import LobTimePreprocessor\n",
    "ltp=LobTimePreprocessor()\n",
    "\n",
    "expire_date=option_info_df.loc[option_symbol,'expire_date']\n",
    "days2maturity = calc_date2maturity(current=date_,expiry=expire_date,trading_dates=trading_dates)  # 计算有多少天\n",
    "\n",
    "option_price_df=pd.read_csv(option_data_root+date_.replace('-','')+'/'+f'{option_symbol}.csv',parse_dates=True,index_col='serverTime')\n",
    "option_price_df=option_price_df.loc[~option_price_df['auctionLabel']]\n",
    "option_price_df=ltp.del_untrade_time(option_price_df)\n",
    "\n",
    "expiry=pd.to_datetime([date_+' 15:00:00.000000']*len(option_price_df))\n",
    "current=pd.DatetimeIndex(pd.to_datetime(option_price_df['serverTime']))\n",
    "time2maturity=calc_time2maturity(current=current,expiry=expiry,days2maturity=days2maturity,annualized=240)"
   ],
   "metadata": {
    "collapsed": false,
    "ExecuteTime": {
     "end_time": "2023-12-27T15:02:08.043220Z",
     "start_time": "2023-12-27T15:02:07.832422Z"
    }
   },
   "id": "6e2c9bbccf390ea3"
  },
  {
   "cell_type": "code",
   "execution_count": 254,
   "outputs": [
    {
     "data": {
      "text/plain": "                 exchangeTime                  serverTime  instrumentID  \\\n12    2023-08-01 09:25:00.175  2023-08-01 09:25:00.097088      10005735   \n13    2023-08-01 09:25:17.400  2023-08-01 09:25:17.321283      10005735   \n14    2023-08-01 09:25:47.399  2023-08-01 09:25:47.318026      10005735   \n15    2023-08-01 09:26:17.399  2023-08-01 09:26:17.319109      10005735   \n16    2023-08-01 09:26:47.400  2023-08-01 09:26:47.317038      10005735   \n...                       ...                         ...           ...   \n4191  2023-08-01 15:02:47.400  2023-08-01 15:02:46.888405      10005735   \n4192  2023-08-01 15:03:17.399  2023-08-01 15:03:16.884883      10005735   \n4193  2023-08-01 15:03:47.400  2023-08-01 15:03:46.886231      10005735   \n4194  2023-08-01 15:04:17.399  2023-08-01 15:04:16.885815      10005735   \n4195  2023-08-01 15:04:47.400  2023-08-01 15:04:46.882022      10005735   \n\n     status  source    last    bid1    bid2    bid3    bid4  ...  bsize4  \\\n12        C     NaN  0.0000  0.0008  0.0007  0.0005  0.0001  ...      22   \n13        C     NaN  0.0000  0.0008  0.0007  0.0005  0.0001  ...      22   \n14        C     NaN  0.0000  0.0008  0.0007  0.0005  0.0001  ...      22   \n15        C     NaN  0.0000  0.0008  0.0007  0.0005  0.0001  ...      22   \n16        C     NaN  0.0000  0.0008  0.0007  0.0005  0.0001  ...      22   \n...     ...     ...     ...     ...     ...     ...     ...  ...     ...   \n4191      E     NaN  0.0009  0.0008  0.0006  0.0004  0.0001  ...      21   \n4192      E     NaN  0.0009  0.0008  0.0006  0.0004  0.0001  ...      21   \n4193      E     NaN  0.0009  0.0008  0.0006  0.0004  0.0001  ...      21   \n4194      E     NaN  0.0009  0.0008  0.0006  0.0004  0.0001  ...      21   \n4195      E     NaN  0.0009  0.0008  0.0006  0.0004  0.0001  ...      21   \n\n      bsize5  asize1  asize2  asize3  asize4  asize5  volume  turnover  \\\n12         0      40      72     135      18      18       0       0.0   \n13         0      40      72     135      18      18       0       0.0   \n14         0      40      72     135      18      18       0       0.0   \n15         0      40      72     135      18      18       0       0.0   \n16         0      40      72     135      18      18       0       0.0   \n...      ...     ...     ...     ...     ...     ...     ...       ...   \n4191       0      21      30      13      15      17     930    8951.0   \n4192       0      21      30      13      15      17     930    8951.0   \n4193       0      21      30      13      15      17     930    8951.0   \n4194       0      21      30      13      15      17     930    8951.0   \n4195       0      21      30      13      15      17     930    8951.0   \n\n      auctionLabel  \n12           False  \n13           False  \n14           False  \n15           False  \n16           False  \n...            ...  \n4191         False  \n4192         False  \n4193         False  \n4194         False  \n4195         False  \n\n[4177 rows x 29 columns]",
      "text/html": "<div>\n<style scoped>\n    .dataframe tbody tr th:only-of-type {\n        vertical-align: middle;\n    }\n\n    .dataframe tbody tr th {\n        vertical-align: top;\n    }\n\n    .dataframe thead th {\n        text-align: right;\n    }\n</style>\n<table border=\"1\" class=\"dataframe\">\n  <thead>\n    <tr style=\"text-align: right;\">\n      <th></th>\n      <th>exchangeTime</th>\n      <th>serverTime</th>\n      <th>instrumentID</th>\n      <th>status</th>\n      <th>source</th>\n      <th>last</th>\n      <th>bid1</th>\n      <th>bid2</th>\n      <th>bid3</th>\n      <th>bid4</th>\n      <th>...</th>\n      <th>bsize4</th>\n      <th>bsize5</th>\n      <th>asize1</th>\n      <th>asize2</th>\n      <th>asize3</th>\n      <th>asize4</th>\n      <th>asize5</th>\n      <th>volume</th>\n      <th>turnover</th>\n      <th>auctionLabel</th>\n    </tr>\n  </thead>\n  <tbody>\n    <tr>\n      <th>12</th>\n      <td>2023-08-01 09:25:00.175</td>\n      <td>2023-08-01 09:25:00.097088</td>\n      <td>10005735</td>\n      <td>C</td>\n      <td>NaN</td>\n      <td>0.0000</td>\n      <td>0.0008</td>\n      <td>0.0007</td>\n      <td>0.0005</td>\n      <td>0.0001</td>\n      <td>...</td>\n      <td>22</td>\n      <td>0</td>\n      <td>40</td>\n      <td>72</td>\n      <td>135</td>\n      <td>18</td>\n      <td>18</td>\n      <td>0</td>\n      <td>0.0</td>\n      <td>False</td>\n    </tr>\n    <tr>\n      <th>13</th>\n      <td>2023-08-01 09:25:17.400</td>\n      <td>2023-08-01 09:25:17.321283</td>\n      <td>10005735</td>\n      <td>C</td>\n      <td>NaN</td>\n      <td>0.0000</td>\n      <td>0.0008</td>\n      <td>0.0007</td>\n      <td>0.0005</td>\n      <td>0.0001</td>\n      <td>...</td>\n      <td>22</td>\n      <td>0</td>\n      <td>40</td>\n      <td>72</td>\n      <td>135</td>\n      <td>18</td>\n      <td>18</td>\n      <td>0</td>\n      <td>0.0</td>\n      <td>False</td>\n    </tr>\n    <tr>\n      <th>14</th>\n      <td>2023-08-01 09:25:47.399</td>\n      <td>2023-08-01 09:25:47.318026</td>\n      <td>10005735</td>\n      <td>C</td>\n      <td>NaN</td>\n      <td>0.0000</td>\n      <td>0.0008</td>\n      <td>0.0007</td>\n      <td>0.0005</td>\n      <td>0.0001</td>\n      <td>...</td>\n      <td>22</td>\n      <td>0</td>\n      <td>40</td>\n      <td>72</td>\n      <td>135</td>\n      <td>18</td>\n      <td>18</td>\n      <td>0</td>\n      <td>0.0</td>\n      <td>False</td>\n    </tr>\n    <tr>\n      <th>15</th>\n      <td>2023-08-01 09:26:17.399</td>\n      <td>2023-08-01 09:26:17.319109</td>\n      <td>10005735</td>\n      <td>C</td>\n      <td>NaN</td>\n      <td>0.0000</td>\n      <td>0.0008</td>\n      <td>0.0007</td>\n      <td>0.0005</td>\n      <td>0.0001</td>\n      <td>...</td>\n      <td>22</td>\n      <td>0</td>\n      <td>40</td>\n      <td>72</td>\n      <td>135</td>\n      <td>18</td>\n      <td>18</td>\n      <td>0</td>\n      <td>0.0</td>\n      <td>False</td>\n    </tr>\n    <tr>\n      <th>16</th>\n      <td>2023-08-01 09:26:47.400</td>\n      <td>2023-08-01 09:26:47.317038</td>\n      <td>10005735</td>\n      <td>C</td>\n      <td>NaN</td>\n      <td>0.0000</td>\n      <td>0.0008</td>\n      <td>0.0007</td>\n      <td>0.0005</td>\n      <td>0.0001</td>\n      <td>...</td>\n      <td>22</td>\n      <td>0</td>\n      <td>40</td>\n      <td>72</td>\n      <td>135</td>\n      <td>18</td>\n      <td>18</td>\n      <td>0</td>\n      <td>0.0</td>\n      <td>False</td>\n    </tr>\n    <tr>\n      <th>...</th>\n      <td>...</td>\n      <td>...</td>\n      <td>...</td>\n      <td>...</td>\n      <td>...</td>\n      <td>...</td>\n      <td>...</td>\n      <td>...</td>\n      <td>...</td>\n      <td>...</td>\n      <td>...</td>\n      <td>...</td>\n      <td>...</td>\n      <td>...</td>\n      <td>...</td>\n      <td>...</td>\n      <td>...</td>\n      <td>...</td>\n      <td>...</td>\n      <td>...</td>\n      <td>...</td>\n    </tr>\n    <tr>\n      <th>4191</th>\n      <td>2023-08-01 15:02:47.400</td>\n      <td>2023-08-01 15:02:46.888405</td>\n      <td>10005735</td>\n      <td>E</td>\n      <td>NaN</td>\n      <td>0.0009</td>\n      <td>0.0008</td>\n      <td>0.0006</td>\n      <td>0.0004</td>\n      <td>0.0001</td>\n      <td>...</td>\n      <td>21</td>\n      <td>0</td>\n      <td>21</td>\n      <td>30</td>\n      <td>13</td>\n      <td>15</td>\n      <td>17</td>\n      <td>930</td>\n      <td>8951.0</td>\n      <td>False</td>\n    </tr>\n    <tr>\n      <th>4192</th>\n      <td>2023-08-01 15:03:17.399</td>\n      <td>2023-08-01 15:03:16.884883</td>\n      <td>10005735</td>\n      <td>E</td>\n      <td>NaN</td>\n      <td>0.0009</td>\n      <td>0.0008</td>\n      <td>0.0006</td>\n      <td>0.0004</td>\n      <td>0.0001</td>\n      <td>...</td>\n      <td>21</td>\n      <td>0</td>\n      <td>21</td>\n      <td>30</td>\n      <td>13</td>\n      <td>15</td>\n      <td>17</td>\n      <td>930</td>\n      <td>8951.0</td>\n      <td>False</td>\n    </tr>\n    <tr>\n      <th>4193</th>\n      <td>2023-08-01 15:03:47.400</td>\n      <td>2023-08-01 15:03:46.886231</td>\n      <td>10005735</td>\n      <td>E</td>\n      <td>NaN</td>\n      <td>0.0009</td>\n      <td>0.0008</td>\n      <td>0.0006</td>\n      <td>0.0004</td>\n      <td>0.0001</td>\n      <td>...</td>\n      <td>21</td>\n      <td>0</td>\n      <td>21</td>\n      <td>30</td>\n      <td>13</td>\n      <td>15</td>\n      <td>17</td>\n      <td>930</td>\n      <td>8951.0</td>\n      <td>False</td>\n    </tr>\n    <tr>\n      <th>4194</th>\n      <td>2023-08-01 15:04:17.399</td>\n      <td>2023-08-01 15:04:16.885815</td>\n      <td>10005735</td>\n      <td>E</td>\n      <td>NaN</td>\n      <td>0.0009</td>\n      <td>0.0008</td>\n      <td>0.0006</td>\n      <td>0.0004</td>\n      <td>0.0001</td>\n      <td>...</td>\n      <td>21</td>\n      <td>0</td>\n      <td>21</td>\n      <td>30</td>\n      <td>13</td>\n      <td>15</td>\n      <td>17</td>\n      <td>930</td>\n      <td>8951.0</td>\n      <td>False</td>\n    </tr>\n    <tr>\n      <th>4195</th>\n      <td>2023-08-01 15:04:47.400</td>\n      <td>2023-08-01 15:04:46.882022</td>\n      <td>10005735</td>\n      <td>E</td>\n      <td>NaN</td>\n      <td>0.0009</td>\n      <td>0.0008</td>\n      <td>0.0006</td>\n      <td>0.0004</td>\n      <td>0.0001</td>\n      <td>...</td>\n      <td>21</td>\n      <td>0</td>\n      <td>21</td>\n      <td>30</td>\n      <td>13</td>\n      <td>15</td>\n      <td>17</td>\n      <td>930</td>\n      <td>8951.0</td>\n      <td>False</td>\n    </tr>\n  </tbody>\n</table>\n<p>4177 rows × 29 columns</p>\n</div>"
     },
     "execution_count": 254,
     "metadata": {},
     "output_type": "execute_result"
    }
   ],
   "source": [
    "option_price_df"
   ],
   "metadata": {
    "collapsed": false,
    "ExecuteTime": {
     "end_time": "2023-12-27T09:10:06.835429Z",
     "start_time": "2023-12-27T09:10:06.659147Z"
    }
   },
   "id": "5135f4b7ad6b0fc2"
  },
  {
   "cell_type": "code",
   "execution_count": 252,
   "outputs": [
    {
     "data": {
      "text/plain": "array([17.02088929, 17.0196776 , 17.01759472, ..., 15.98425191,\n       15.98216864, 15.98008583])"
     },
     "execution_count": 252,
     "metadata": {},
     "output_type": "execute_result"
    }
   ],
   "source": [
    "time2maturity*240"
   ],
   "metadata": {
    "collapsed": false,
    "ExecuteTime": {
     "end_time": "2023-12-27T08:56:30.104214Z",
     "start_time": "2023-12-27T08:56:30.073683Z"
    }
   },
   "id": "38d5f504d672d97d"
  },
  {
   "cell_type": "code",
   "execution_count": 253,
   "outputs": [
    {
     "data": {
      "text/plain": "16"
     },
     "execution_count": 253,
     "metadata": {},
     "output_type": "execute_result"
    }
   ],
   "source": [
    "days2maturity"
   ],
   "metadata": {
    "collapsed": false,
    "ExecuteTime": {
     "end_time": "2023-12-27T08:56:46.866820Z",
     "start_time": "2023-12-27T08:56:46.810980Z"
    }
   },
   "id": "e5c653b95f772e44"
  },
  {
   "cell_type": "code",
   "execution_count": 270,
   "outputs": [
    {
     "data": {
      "text/plain": "               trading_code           name contract_type exchange_code  \\\ncode                                                                     \n10005100  510300P2302M04600  300ETF沽2月4600            PO          XSHG   \n10005101  510300C2303M04600  300ETF购3月4600            CO          XSHG   \n10005102  510300P2303M04600  300ETF沽3月4600            PO          XSHG   \n10005103  510300C2306M04600  300ETF购6月4600            CO          XSHG   \n10005104  510300P2306M04600  300ETF沽6月4600            PO          XSHG   \n10005105  510050C2309M02650   50ETF购9月2650            CO          XSHG   \n10005106  510050C2309M02700   50ETF购9月2700            CO          XSHG   \n10005107  510050C2309M02750   50ETF购9月2750            CO          XSHG   \n10005108  510050C2309M02800   50ETF购9月2800            CO          XSHG   \n10005109  510050C2309M02850   50ETF购9月2850            CO          XSHG   \n10005110  510050C2309M02900   50ETF购9月2900            CO          XSHG   \n10005111  510050C2309M02950   50ETF购9月2950            CO          XSHG   \n10005112  510050C2309M03000   50ETF购9月3000            CO          XSHG   \n10005113  510050C2309M03100   50ETF购9月3100            CO          XSHG   \n10005114  510050P2309M02650   50ETF沽9月2650            PO          XSHG   \n10005115  510050P2309M02700   50ETF沽9月2700            PO          XSHG   \n10005116  510050P2309M02750   50ETF沽9月2750            PO          XSHG   \n10005117  510050P2309M02800   50ETF沽9月2800            PO          XSHG   \n10005118  510050P2309M02850   50ETF沽9月2850            PO          XSHG   \n10005119  510050P2309M02900   50ETF沽9月2900            PO          XSHG   \n10005120  510050P2309M02950   50ETF沽9月2950            PO          XSHG   \n10005121  510050P2309M03000   50ETF沽9月3000            PO          XSHG   \n10005122  510050P2309M03100   50ETF沽9月3100            PO          XSHG   \n10005123  510300C2309M03800  300ETF购9月3800            CO          XSHG   \n10005124  510300C2309M03900  300ETF购9月3900            CO          XSHG   \n10005125  510300C2309M04000  300ETF购9月4000            CO          XSHG   \n10005126  510300C2309M04100  300ETF购9月4100            CO          XSHG   \n10005127  510300C2309M04200  300ETF购9月4200            CO          XSHG   \n10005128  510300C2309M04300  300ETF购9月4300            CO          XSHG   \n10005129  510300C2309M04400  300ETF购9月4400            CO          XSHG   \n10005130  510300C2309M04500  300ETF购9月4500            CO          XSHG   \n\n         currency_id underlying_symbol underlying_name underlying_exchange  \\\ncode                                                                         \n10005100         CNY       510300.XSHG    华泰柏瑞沪深300ETF                XSHG   \n10005101         CNY       510300.XSHG    华泰柏瑞沪深300ETF                XSHG   \n10005102         CNY       510300.XSHG    华泰柏瑞沪深300ETF                XSHG   \n10005103         CNY       510300.XSHG    华泰柏瑞沪深300ETF                XSHG   \n10005104         CNY       510300.XSHG    华泰柏瑞沪深300ETF                XSHG   \n10005105         CNY       510050.XSHG           50ETF                XSHG   \n10005106         CNY       510050.XSHG           50ETF                XSHG   \n10005107         CNY       510050.XSHG           50ETF                XSHG   \n10005108         CNY       510050.XSHG           50ETF                XSHG   \n10005109         CNY       510050.XSHG           50ETF                XSHG   \n10005110         CNY       510050.XSHG           50ETF                XSHG   \n10005111         CNY       510050.XSHG           50ETF                XSHG   \n10005112         CNY       510050.XSHG           50ETF                XSHG   \n10005113         CNY       510050.XSHG           50ETF                XSHG   \n10005114         CNY       510050.XSHG           50ETF                XSHG   \n10005115         CNY       510050.XSHG           50ETF                XSHG   \n10005116         CNY       510050.XSHG           50ETF                XSHG   \n10005117         CNY       510050.XSHG           50ETF                XSHG   \n10005118         CNY       510050.XSHG           50ETF                XSHG   \n10005119         CNY       510050.XSHG           50ETF                XSHG   \n10005120         CNY       510050.XSHG           50ETF                XSHG   \n10005121         CNY       510050.XSHG           50ETF                XSHG   \n10005122         CNY       510050.XSHG           50ETF                XSHG   \n10005123         CNY       510300.XSHG    华泰柏瑞沪深300ETF                XSHG   \n10005124         CNY       510300.XSHG    华泰柏瑞沪深300ETF                XSHG   \n10005125         CNY       510300.XSHG    华泰柏瑞沪深300ETF                XSHG   \n10005126         CNY       510300.XSHG    华泰柏瑞沪深300ETF                XSHG   \n10005127         CNY       510300.XSHG    华泰柏瑞沪深300ETF                XSHG   \n10005128         CNY       510300.XSHG    华泰柏瑞沪深300ETF                XSHG   \n10005129         CNY       510300.XSHG    华泰柏瑞沪深300ETF                XSHG   \n10005130         CNY       510300.XSHG    华泰柏瑞沪深300ETF                XSHG   \n\n         underlying_type  exercise_price  ...  list_price high_limit  \\\ncode                                      ...                          \n10005100             ETF            4.60  ...      0.4420     0.8578   \n10005101             ETF            4.60  ...      0.0226     0.3942   \n10005102             ETF            4.60  ...      0.4420     0.8578   \n10005103             ETF            4.60  ...      0.0747     0.4463   \n10005104             ETF            4.60  ...      0.4586     0.8744   \n10005105             ETF            2.65  ...      0.3160     0.6009   \n10005106             ETF            2.70  ...      0.2793     0.5642   \n10005107             ETF            2.75  ...      0.2506     0.5355   \n10005108             ETF            2.80  ...      0.2228     0.5077   \n10005109             ETF            2.85  ...      0.1967     0.4815   \n10005110             ETF            2.90  ...      0.1732     0.4530   \n10005111             ETF            2.95  ...      0.1510     0.4258   \n10005112             ETF            3.00  ...      0.1290     0.3988   \n10005113             ETF            3.10  ...      0.1007     0.3605   \n10005114             ETF            2.65  ...      0.0733     0.3184   \n10005115             ETF            2.70  ...      0.0910     0.3461   \n10005116             ETF            2.75  ...      0.1093     0.3744   \n10005117             ETF            2.80  ...      0.1291     0.4042   \n10005118             ETF            2.85  ...      0.1550     0.4399   \n10005119             ETF            2.90  ...      0.1778     0.4627   \n10005120             ETF            2.95  ...      0.2034     0.4883   \n10005121             ETF            3.00  ...      0.2372     0.5221   \n10005122             ETF            3.10  ...      0.3034     0.5883   \n10005123             ETF            3.80  ...      0.5415     0.9620   \n10005124             ETF            3.90  ...      0.4636     0.8841   \n10005125             ETF            4.00  ...      0.4009     0.8214   \n10005126             ETF            4.10  ...      0.3409     0.7614   \n10005127             ETF            4.20  ...      0.2820     0.7025   \n10005128             ETF            4.30  ...      0.2330     0.6440   \n10005129             ETF            4.40  ...      0.1917     0.5927   \n10005130             ETF            4.50  ...      0.1560     0.5470   \n\n         low_limit expire_date  last_trade_date  exercise_date  delivery_date  \\\ncode                                                                            \n10005100    0.0262  2023-02-22       2023-02-22     2023-02-22     2023-02-23   \n10005101    0.0001  2023-03-22       2023-03-22     2023-03-22     2023-03-23   \n10005102    0.0262  2023-03-22       2023-03-22     2023-03-22     2023-03-23   \n10005103    0.0001  2023-06-28       2023-06-28     2023-06-28     2023-06-29   \n10005104    0.0428  2023-06-28       2023-06-28     2023-06-28     2023-06-29   \n10005105    0.0311  2023-09-27       2023-09-27     2023-09-27     2023-09-28   \n10005106    0.0001  2023-09-27       2023-09-27     2023-09-27     2023-09-28   \n10005107    0.0001  2023-09-27       2023-09-27     2023-09-27     2023-09-28   \n10005108    0.0001  2023-09-27       2023-09-27     2023-09-27     2023-09-28   \n10005109    0.0001  2023-09-27       2023-09-27     2023-09-27     2023-09-28   \n10005110    0.0001  2023-09-27       2023-09-27     2023-09-27     2023-09-28   \n10005111    0.0001  2023-09-27       2023-09-27     2023-09-27     2023-09-28   \n10005112    0.0001  2023-09-27       2023-09-27     2023-09-27     2023-09-28   \n10005113    0.0001  2023-09-27       2023-09-27     2023-09-27     2023-09-28   \n10005114    0.0001  2023-09-27       2023-09-27     2023-09-27     2023-09-28   \n10005115    0.0001  2023-09-27       2023-09-27     2023-09-27     2023-09-28   \n10005116    0.0001  2023-09-27       2023-09-27     2023-09-27     2023-09-28   \n10005117    0.0001  2023-09-27       2023-09-27     2023-09-27     2023-09-28   \n10005118    0.0001  2023-09-27       2023-09-27     2023-09-27     2023-09-28   \n10005119    0.0001  2023-09-27       2023-09-27     2023-09-27     2023-09-28   \n10005120    0.0001  2023-09-27       2023-09-27     2023-09-27     2023-09-28   \n10005121    0.0001  2023-09-27       2023-09-27     2023-09-27     2023-09-28   \n10005122    0.0185  2023-09-27       2023-09-27     2023-09-27     2023-09-28   \n10005123    0.1210  2023-09-27       2023-09-27     2023-09-27     2023-09-28   \n10005124    0.0431  2023-09-27       2023-09-27     2023-09-27     2023-09-28   \n10005125    0.0001  2023-09-27       2023-09-27     2023-09-27     2023-09-28   \n10005126    0.0001  2023-09-27       2023-09-27     2023-09-27     2023-09-28   \n10005127    0.0001  2023-09-27       2023-09-27     2023-09-27     2023-09-28   \n10005128    0.0001  2023-09-27       2023-09-27     2023-09-27     2023-09-28   \n10005129    0.0001  2023-09-27       2023-09-27     2023-09-27     2023-09-28   \n10005130    0.0001  2023-09-27       2023-09-27     2023-09-27     2023-09-28   \n\n         is_adjust delist_date delist_reason  \ncode                                          \n10005100         0  2023-02-23          合约到期  \n10005101         0  2023-03-23          合约到期  \n10005102         0  2023-03-23          合约到期  \n10005103         0  2023-06-29          合约到期  \n10005104         0  2023-06-29          合约到期  \n10005105         0  2023-09-28          合约到期  \n10005106         0  2023-09-28          合约到期  \n10005107         0  2023-09-28          合约到期  \n10005108         0  2023-09-28          合约到期  \n10005109         0  2023-09-28          合约到期  \n10005110         0  2023-09-28          合约到期  \n10005111         0  2023-09-28          合约到期  \n10005112         0  2023-09-28          合约到期  \n10005113         0  2023-09-28          合约到期  \n10005114         0  2023-09-28          合约到期  \n10005115         0  2023-09-28          合约到期  \n10005116         0  2023-09-28          合约到期  \n10005117         0  2023-09-28          合约到期  \n10005118         0  2023-09-28          合约到期  \n10005119         0  2023-09-28          合约到期  \n10005120         0  2023-09-28          合约到期  \n10005121         0  2023-09-28          合约到期  \n10005122         0  2023-09-28          合约到期  \n10005123         0  2023-09-28          合约到期  \n10005124         0  2023-09-28          合约到期  \n10005125         0  2023-09-28          合约到期  \n10005126         0  2023-09-28          合约到期  \n10005127         0  2023-09-28          合约到期  \n10005128         0  2023-09-28          合约到期  \n10005129         0  2023-09-28          合约到期  \n10005130         0  2023-09-28          合约到期  \n\n[31 rows x 24 columns]",
      "text/html": "<div>\n<style scoped>\n    .dataframe tbody tr th:only-of-type {\n        vertical-align: middle;\n    }\n\n    .dataframe tbody tr th {\n        vertical-align: top;\n    }\n\n    .dataframe thead th {\n        text-align: right;\n    }\n</style>\n<table border=\"1\" class=\"dataframe\">\n  <thead>\n    <tr style=\"text-align: right;\">\n      <th></th>\n      <th>trading_code</th>\n      <th>name</th>\n      <th>contract_type</th>\n      <th>exchange_code</th>\n      <th>currency_id</th>\n      <th>underlying_symbol</th>\n      <th>underlying_name</th>\n      <th>underlying_exchange</th>\n      <th>underlying_type</th>\n      <th>exercise_price</th>\n      <th>...</th>\n      <th>list_price</th>\n      <th>high_limit</th>\n      <th>low_limit</th>\n      <th>expire_date</th>\n      <th>last_trade_date</th>\n      <th>exercise_date</th>\n      <th>delivery_date</th>\n      <th>is_adjust</th>\n      <th>delist_date</th>\n      <th>delist_reason</th>\n    </tr>\n    <tr>\n      <th>code</th>\n      <th></th>\n      <th></th>\n      <th></th>\n      <th></th>\n      <th></th>\n      <th></th>\n      <th></th>\n      <th></th>\n      <th></th>\n      <th></th>\n      <th></th>\n      <th></th>\n      <th></th>\n      <th></th>\n      <th></th>\n      <th></th>\n      <th></th>\n      <th></th>\n      <th></th>\n      <th></th>\n      <th></th>\n    </tr>\n  </thead>\n  <tbody>\n    <tr>\n      <th>10005100</th>\n      <td>510300P2302M04600</td>\n      <td>300ETF沽2月4600</td>\n      <td>PO</td>\n      <td>XSHG</td>\n      <td>CNY</td>\n      <td>510300.XSHG</td>\n      <td>华泰柏瑞沪深300ETF</td>\n      <td>XSHG</td>\n      <td>ETF</td>\n      <td>4.60</td>\n      <td>...</td>\n      <td>0.4420</td>\n      <td>0.8578</td>\n      <td>0.0262</td>\n      <td>2023-02-22</td>\n      <td>2023-02-22</td>\n      <td>2023-02-22</td>\n      <td>2023-02-23</td>\n      <td>0</td>\n      <td>2023-02-23</td>\n      <td>合约到期</td>\n    </tr>\n    <tr>\n      <th>10005101</th>\n      <td>510300C2303M04600</td>\n      <td>300ETF购3月4600</td>\n      <td>CO</td>\n      <td>XSHG</td>\n      <td>CNY</td>\n      <td>510300.XSHG</td>\n      <td>华泰柏瑞沪深300ETF</td>\n      <td>XSHG</td>\n      <td>ETF</td>\n      <td>4.60</td>\n      <td>...</td>\n      <td>0.0226</td>\n      <td>0.3942</td>\n      <td>0.0001</td>\n      <td>2023-03-22</td>\n      <td>2023-03-22</td>\n      <td>2023-03-22</td>\n      <td>2023-03-23</td>\n      <td>0</td>\n      <td>2023-03-23</td>\n      <td>合约到期</td>\n    </tr>\n    <tr>\n      <th>10005102</th>\n      <td>510300P2303M04600</td>\n      <td>300ETF沽3月4600</td>\n      <td>PO</td>\n      <td>XSHG</td>\n      <td>CNY</td>\n      <td>510300.XSHG</td>\n      <td>华泰柏瑞沪深300ETF</td>\n      <td>XSHG</td>\n      <td>ETF</td>\n      <td>4.60</td>\n      <td>...</td>\n      <td>0.4420</td>\n      <td>0.8578</td>\n      <td>0.0262</td>\n      <td>2023-03-22</td>\n      <td>2023-03-22</td>\n      <td>2023-03-22</td>\n      <td>2023-03-23</td>\n      <td>0</td>\n      <td>2023-03-23</td>\n      <td>合约到期</td>\n    </tr>\n    <tr>\n      <th>10005103</th>\n      <td>510300C2306M04600</td>\n      <td>300ETF购6月4600</td>\n      <td>CO</td>\n      <td>XSHG</td>\n      <td>CNY</td>\n      <td>510300.XSHG</td>\n      <td>华泰柏瑞沪深300ETF</td>\n      <td>XSHG</td>\n      <td>ETF</td>\n      <td>4.60</td>\n      <td>...</td>\n      <td>0.0747</td>\n      <td>0.4463</td>\n      <td>0.0001</td>\n      <td>2023-06-28</td>\n      <td>2023-06-28</td>\n      <td>2023-06-28</td>\n      <td>2023-06-29</td>\n      <td>0</td>\n      <td>2023-06-29</td>\n      <td>合约到期</td>\n    </tr>\n    <tr>\n      <th>10005104</th>\n      <td>510300P2306M04600</td>\n      <td>300ETF沽6月4600</td>\n      <td>PO</td>\n      <td>XSHG</td>\n      <td>CNY</td>\n      <td>510300.XSHG</td>\n      <td>华泰柏瑞沪深300ETF</td>\n      <td>XSHG</td>\n      <td>ETF</td>\n      <td>4.60</td>\n      <td>...</td>\n      <td>0.4586</td>\n      <td>0.8744</td>\n      <td>0.0428</td>\n      <td>2023-06-28</td>\n      <td>2023-06-28</td>\n      <td>2023-06-28</td>\n      <td>2023-06-29</td>\n      <td>0</td>\n      <td>2023-06-29</td>\n      <td>合约到期</td>\n    </tr>\n    <tr>\n      <th>10005105</th>\n      <td>510050C2309M02650</td>\n      <td>50ETF购9月2650</td>\n      <td>CO</td>\n      <td>XSHG</td>\n      <td>CNY</td>\n      <td>510050.XSHG</td>\n      <td>50ETF</td>\n      <td>XSHG</td>\n      <td>ETF</td>\n      <td>2.65</td>\n      <td>...</td>\n      <td>0.3160</td>\n      <td>0.6009</td>\n      <td>0.0311</td>\n      <td>2023-09-27</td>\n      <td>2023-09-27</td>\n      <td>2023-09-27</td>\n      <td>2023-09-28</td>\n      <td>0</td>\n      <td>2023-09-28</td>\n      <td>合约到期</td>\n    </tr>\n    <tr>\n      <th>10005106</th>\n      <td>510050C2309M02700</td>\n      <td>50ETF购9月2700</td>\n      <td>CO</td>\n      <td>XSHG</td>\n      <td>CNY</td>\n      <td>510050.XSHG</td>\n      <td>50ETF</td>\n      <td>XSHG</td>\n      <td>ETF</td>\n      <td>2.70</td>\n      <td>...</td>\n      <td>0.2793</td>\n      <td>0.5642</td>\n      <td>0.0001</td>\n      <td>2023-09-27</td>\n      <td>2023-09-27</td>\n      <td>2023-09-27</td>\n      <td>2023-09-28</td>\n      <td>0</td>\n      <td>2023-09-28</td>\n      <td>合约到期</td>\n    </tr>\n    <tr>\n      <th>10005107</th>\n      <td>510050C2309M02750</td>\n      <td>50ETF购9月2750</td>\n      <td>CO</td>\n      <td>XSHG</td>\n      <td>CNY</td>\n      <td>510050.XSHG</td>\n      <td>50ETF</td>\n      <td>XSHG</td>\n      <td>ETF</td>\n      <td>2.75</td>\n      <td>...</td>\n      <td>0.2506</td>\n      <td>0.5355</td>\n      <td>0.0001</td>\n      <td>2023-09-27</td>\n      <td>2023-09-27</td>\n      <td>2023-09-27</td>\n      <td>2023-09-28</td>\n      <td>0</td>\n      <td>2023-09-28</td>\n      <td>合约到期</td>\n    </tr>\n    <tr>\n      <th>10005108</th>\n      <td>510050C2309M02800</td>\n      <td>50ETF购9月2800</td>\n      <td>CO</td>\n      <td>XSHG</td>\n      <td>CNY</td>\n      <td>510050.XSHG</td>\n      <td>50ETF</td>\n      <td>XSHG</td>\n      <td>ETF</td>\n      <td>2.80</td>\n      <td>...</td>\n      <td>0.2228</td>\n      <td>0.5077</td>\n      <td>0.0001</td>\n      <td>2023-09-27</td>\n      <td>2023-09-27</td>\n      <td>2023-09-27</td>\n      <td>2023-09-28</td>\n      <td>0</td>\n      <td>2023-09-28</td>\n      <td>合约到期</td>\n    </tr>\n    <tr>\n      <th>10005109</th>\n      <td>510050C2309M02850</td>\n      <td>50ETF购9月2850</td>\n      <td>CO</td>\n      <td>XSHG</td>\n      <td>CNY</td>\n      <td>510050.XSHG</td>\n      <td>50ETF</td>\n      <td>XSHG</td>\n      <td>ETF</td>\n      <td>2.85</td>\n      <td>...</td>\n      <td>0.1967</td>\n      <td>0.4815</td>\n      <td>0.0001</td>\n      <td>2023-09-27</td>\n      <td>2023-09-27</td>\n      <td>2023-09-27</td>\n      <td>2023-09-28</td>\n      <td>0</td>\n      <td>2023-09-28</td>\n      <td>合约到期</td>\n    </tr>\n    <tr>\n      <th>10005110</th>\n      <td>510050C2309M02900</td>\n      <td>50ETF购9月2900</td>\n      <td>CO</td>\n      <td>XSHG</td>\n      <td>CNY</td>\n      <td>510050.XSHG</td>\n      <td>50ETF</td>\n      <td>XSHG</td>\n      <td>ETF</td>\n      <td>2.90</td>\n      <td>...</td>\n      <td>0.1732</td>\n      <td>0.4530</td>\n      <td>0.0001</td>\n      <td>2023-09-27</td>\n      <td>2023-09-27</td>\n      <td>2023-09-27</td>\n      <td>2023-09-28</td>\n      <td>0</td>\n      <td>2023-09-28</td>\n      <td>合约到期</td>\n    </tr>\n    <tr>\n      <th>10005111</th>\n      <td>510050C2309M02950</td>\n      <td>50ETF购9月2950</td>\n      <td>CO</td>\n      <td>XSHG</td>\n      <td>CNY</td>\n      <td>510050.XSHG</td>\n      <td>50ETF</td>\n      <td>XSHG</td>\n      <td>ETF</td>\n      <td>2.95</td>\n      <td>...</td>\n      <td>0.1510</td>\n      <td>0.4258</td>\n      <td>0.0001</td>\n      <td>2023-09-27</td>\n      <td>2023-09-27</td>\n      <td>2023-09-27</td>\n      <td>2023-09-28</td>\n      <td>0</td>\n      <td>2023-09-28</td>\n      <td>合约到期</td>\n    </tr>\n    <tr>\n      <th>10005112</th>\n      <td>510050C2309M03000</td>\n      <td>50ETF购9月3000</td>\n      <td>CO</td>\n      <td>XSHG</td>\n      <td>CNY</td>\n      <td>510050.XSHG</td>\n      <td>50ETF</td>\n      <td>XSHG</td>\n      <td>ETF</td>\n      <td>3.00</td>\n      <td>...</td>\n      <td>0.1290</td>\n      <td>0.3988</td>\n      <td>0.0001</td>\n      <td>2023-09-27</td>\n      <td>2023-09-27</td>\n      <td>2023-09-27</td>\n      <td>2023-09-28</td>\n      <td>0</td>\n      <td>2023-09-28</td>\n      <td>合约到期</td>\n    </tr>\n    <tr>\n      <th>10005113</th>\n      <td>510050C2309M03100</td>\n      <td>50ETF购9月3100</td>\n      <td>CO</td>\n      <td>XSHG</td>\n      <td>CNY</td>\n      <td>510050.XSHG</td>\n      <td>50ETF</td>\n      <td>XSHG</td>\n      <td>ETF</td>\n      <td>3.10</td>\n      <td>...</td>\n      <td>0.1007</td>\n      <td>0.3605</td>\n      <td>0.0001</td>\n      <td>2023-09-27</td>\n      <td>2023-09-27</td>\n      <td>2023-09-27</td>\n      <td>2023-09-28</td>\n      <td>0</td>\n      <td>2023-09-28</td>\n      <td>合约到期</td>\n    </tr>\n    <tr>\n      <th>10005114</th>\n      <td>510050P2309M02650</td>\n      <td>50ETF沽9月2650</td>\n      <td>PO</td>\n      <td>XSHG</td>\n      <td>CNY</td>\n      <td>510050.XSHG</td>\n      <td>50ETF</td>\n      <td>XSHG</td>\n      <td>ETF</td>\n      <td>2.65</td>\n      <td>...</td>\n      <td>0.0733</td>\n      <td>0.3184</td>\n      <td>0.0001</td>\n      <td>2023-09-27</td>\n      <td>2023-09-27</td>\n      <td>2023-09-27</td>\n      <td>2023-09-28</td>\n      <td>0</td>\n      <td>2023-09-28</td>\n      <td>合约到期</td>\n    </tr>\n    <tr>\n      <th>10005115</th>\n      <td>510050P2309M02700</td>\n      <td>50ETF沽9月2700</td>\n      <td>PO</td>\n      <td>XSHG</td>\n      <td>CNY</td>\n      <td>510050.XSHG</td>\n      <td>50ETF</td>\n      <td>XSHG</td>\n      <td>ETF</td>\n      <td>2.70</td>\n      <td>...</td>\n      <td>0.0910</td>\n      <td>0.3461</td>\n      <td>0.0001</td>\n      <td>2023-09-27</td>\n      <td>2023-09-27</td>\n      <td>2023-09-27</td>\n      <td>2023-09-28</td>\n      <td>0</td>\n      <td>2023-09-28</td>\n      <td>合约到期</td>\n    </tr>\n    <tr>\n      <th>10005116</th>\n      <td>510050P2309M02750</td>\n      <td>50ETF沽9月2750</td>\n      <td>PO</td>\n      <td>XSHG</td>\n      <td>CNY</td>\n      <td>510050.XSHG</td>\n      <td>50ETF</td>\n      <td>XSHG</td>\n      <td>ETF</td>\n      <td>2.75</td>\n      <td>...</td>\n      <td>0.1093</td>\n      <td>0.3744</td>\n      <td>0.0001</td>\n      <td>2023-09-27</td>\n      <td>2023-09-27</td>\n      <td>2023-09-27</td>\n      <td>2023-09-28</td>\n      <td>0</td>\n      <td>2023-09-28</td>\n      <td>合约到期</td>\n    </tr>\n    <tr>\n      <th>10005117</th>\n      <td>510050P2309M02800</td>\n      <td>50ETF沽9月2800</td>\n      <td>PO</td>\n      <td>XSHG</td>\n      <td>CNY</td>\n      <td>510050.XSHG</td>\n      <td>50ETF</td>\n      <td>XSHG</td>\n      <td>ETF</td>\n      <td>2.80</td>\n      <td>...</td>\n      <td>0.1291</td>\n      <td>0.4042</td>\n      <td>0.0001</td>\n      <td>2023-09-27</td>\n      <td>2023-09-27</td>\n      <td>2023-09-27</td>\n      <td>2023-09-28</td>\n      <td>0</td>\n      <td>2023-09-28</td>\n      <td>合约到期</td>\n    </tr>\n    <tr>\n      <th>10005118</th>\n      <td>510050P2309M02850</td>\n      <td>50ETF沽9月2850</td>\n      <td>PO</td>\n      <td>XSHG</td>\n      <td>CNY</td>\n      <td>510050.XSHG</td>\n      <td>50ETF</td>\n      <td>XSHG</td>\n      <td>ETF</td>\n      <td>2.85</td>\n      <td>...</td>\n      <td>0.1550</td>\n      <td>0.4399</td>\n      <td>0.0001</td>\n      <td>2023-09-27</td>\n      <td>2023-09-27</td>\n      <td>2023-09-27</td>\n      <td>2023-09-28</td>\n      <td>0</td>\n      <td>2023-09-28</td>\n      <td>合约到期</td>\n    </tr>\n    <tr>\n      <th>10005119</th>\n      <td>510050P2309M02900</td>\n      <td>50ETF沽9月2900</td>\n      <td>PO</td>\n      <td>XSHG</td>\n      <td>CNY</td>\n      <td>510050.XSHG</td>\n      <td>50ETF</td>\n      <td>XSHG</td>\n      <td>ETF</td>\n      <td>2.90</td>\n      <td>...</td>\n      <td>0.1778</td>\n      <td>0.4627</td>\n      <td>0.0001</td>\n      <td>2023-09-27</td>\n      <td>2023-09-27</td>\n      <td>2023-09-27</td>\n      <td>2023-09-28</td>\n      <td>0</td>\n      <td>2023-09-28</td>\n      <td>合约到期</td>\n    </tr>\n    <tr>\n      <th>10005120</th>\n      <td>510050P2309M02950</td>\n      <td>50ETF沽9月2950</td>\n      <td>PO</td>\n      <td>XSHG</td>\n      <td>CNY</td>\n      <td>510050.XSHG</td>\n      <td>50ETF</td>\n      <td>XSHG</td>\n      <td>ETF</td>\n      <td>2.95</td>\n      <td>...</td>\n      <td>0.2034</td>\n      <td>0.4883</td>\n      <td>0.0001</td>\n      <td>2023-09-27</td>\n      <td>2023-09-27</td>\n      <td>2023-09-27</td>\n      <td>2023-09-28</td>\n      <td>0</td>\n      <td>2023-09-28</td>\n      <td>合约到期</td>\n    </tr>\n    <tr>\n      <th>10005121</th>\n      <td>510050P2309M03000</td>\n      <td>50ETF沽9月3000</td>\n      <td>PO</td>\n      <td>XSHG</td>\n      <td>CNY</td>\n      <td>510050.XSHG</td>\n      <td>50ETF</td>\n      <td>XSHG</td>\n      <td>ETF</td>\n      <td>3.00</td>\n      <td>...</td>\n      <td>0.2372</td>\n      <td>0.5221</td>\n      <td>0.0001</td>\n      <td>2023-09-27</td>\n      <td>2023-09-27</td>\n      <td>2023-09-27</td>\n      <td>2023-09-28</td>\n      <td>0</td>\n      <td>2023-09-28</td>\n      <td>合约到期</td>\n    </tr>\n    <tr>\n      <th>10005122</th>\n      <td>510050P2309M03100</td>\n      <td>50ETF沽9月3100</td>\n      <td>PO</td>\n      <td>XSHG</td>\n      <td>CNY</td>\n      <td>510050.XSHG</td>\n      <td>50ETF</td>\n      <td>XSHG</td>\n      <td>ETF</td>\n      <td>3.10</td>\n      <td>...</td>\n      <td>0.3034</td>\n      <td>0.5883</td>\n      <td>0.0185</td>\n      <td>2023-09-27</td>\n      <td>2023-09-27</td>\n      <td>2023-09-27</td>\n      <td>2023-09-28</td>\n      <td>0</td>\n      <td>2023-09-28</td>\n      <td>合约到期</td>\n    </tr>\n    <tr>\n      <th>10005123</th>\n      <td>510300C2309M03800</td>\n      <td>300ETF购9月3800</td>\n      <td>CO</td>\n      <td>XSHG</td>\n      <td>CNY</td>\n      <td>510300.XSHG</td>\n      <td>华泰柏瑞沪深300ETF</td>\n      <td>XSHG</td>\n      <td>ETF</td>\n      <td>3.80</td>\n      <td>...</td>\n      <td>0.5415</td>\n      <td>0.9620</td>\n      <td>0.1210</td>\n      <td>2023-09-27</td>\n      <td>2023-09-27</td>\n      <td>2023-09-27</td>\n      <td>2023-09-28</td>\n      <td>0</td>\n      <td>2023-09-28</td>\n      <td>合约到期</td>\n    </tr>\n    <tr>\n      <th>10005124</th>\n      <td>510300C2309M03900</td>\n      <td>300ETF购9月3900</td>\n      <td>CO</td>\n      <td>XSHG</td>\n      <td>CNY</td>\n      <td>510300.XSHG</td>\n      <td>华泰柏瑞沪深300ETF</td>\n      <td>XSHG</td>\n      <td>ETF</td>\n      <td>3.90</td>\n      <td>...</td>\n      <td>0.4636</td>\n      <td>0.8841</td>\n      <td>0.0431</td>\n      <td>2023-09-27</td>\n      <td>2023-09-27</td>\n      <td>2023-09-27</td>\n      <td>2023-09-28</td>\n      <td>0</td>\n      <td>2023-09-28</td>\n      <td>合约到期</td>\n    </tr>\n    <tr>\n      <th>10005125</th>\n      <td>510300C2309M04000</td>\n      <td>300ETF购9月4000</td>\n      <td>CO</td>\n      <td>XSHG</td>\n      <td>CNY</td>\n      <td>510300.XSHG</td>\n      <td>华泰柏瑞沪深300ETF</td>\n      <td>XSHG</td>\n      <td>ETF</td>\n      <td>4.00</td>\n      <td>...</td>\n      <td>0.4009</td>\n      <td>0.8214</td>\n      <td>0.0001</td>\n      <td>2023-09-27</td>\n      <td>2023-09-27</td>\n      <td>2023-09-27</td>\n      <td>2023-09-28</td>\n      <td>0</td>\n      <td>2023-09-28</td>\n      <td>合约到期</td>\n    </tr>\n    <tr>\n      <th>10005126</th>\n      <td>510300C2309M04100</td>\n      <td>300ETF购9月4100</td>\n      <td>CO</td>\n      <td>XSHG</td>\n      <td>CNY</td>\n      <td>510300.XSHG</td>\n      <td>华泰柏瑞沪深300ETF</td>\n      <td>XSHG</td>\n      <td>ETF</td>\n      <td>4.10</td>\n      <td>...</td>\n      <td>0.3409</td>\n      <td>0.7614</td>\n      <td>0.0001</td>\n      <td>2023-09-27</td>\n      <td>2023-09-27</td>\n      <td>2023-09-27</td>\n      <td>2023-09-28</td>\n      <td>0</td>\n      <td>2023-09-28</td>\n      <td>合约到期</td>\n    </tr>\n    <tr>\n      <th>10005127</th>\n      <td>510300C2309M04200</td>\n      <td>300ETF购9月4200</td>\n      <td>CO</td>\n      <td>XSHG</td>\n      <td>CNY</td>\n      <td>510300.XSHG</td>\n      <td>华泰柏瑞沪深300ETF</td>\n      <td>XSHG</td>\n      <td>ETF</td>\n      <td>4.20</td>\n      <td>...</td>\n      <td>0.2820</td>\n      <td>0.7025</td>\n      <td>0.0001</td>\n      <td>2023-09-27</td>\n      <td>2023-09-27</td>\n      <td>2023-09-27</td>\n      <td>2023-09-28</td>\n      <td>0</td>\n      <td>2023-09-28</td>\n      <td>合约到期</td>\n    </tr>\n    <tr>\n      <th>10005128</th>\n      <td>510300C2309M04300</td>\n      <td>300ETF购9月4300</td>\n      <td>CO</td>\n      <td>XSHG</td>\n      <td>CNY</td>\n      <td>510300.XSHG</td>\n      <td>华泰柏瑞沪深300ETF</td>\n      <td>XSHG</td>\n      <td>ETF</td>\n      <td>4.30</td>\n      <td>...</td>\n      <td>0.2330</td>\n      <td>0.6440</td>\n      <td>0.0001</td>\n      <td>2023-09-27</td>\n      <td>2023-09-27</td>\n      <td>2023-09-27</td>\n      <td>2023-09-28</td>\n      <td>0</td>\n      <td>2023-09-28</td>\n      <td>合约到期</td>\n    </tr>\n    <tr>\n      <th>10005129</th>\n      <td>510300C2309M04400</td>\n      <td>300ETF购9月4400</td>\n      <td>CO</td>\n      <td>XSHG</td>\n      <td>CNY</td>\n      <td>510300.XSHG</td>\n      <td>华泰柏瑞沪深300ETF</td>\n      <td>XSHG</td>\n      <td>ETF</td>\n      <td>4.40</td>\n      <td>...</td>\n      <td>0.1917</td>\n      <td>0.5927</td>\n      <td>0.0001</td>\n      <td>2023-09-27</td>\n      <td>2023-09-27</td>\n      <td>2023-09-27</td>\n      <td>2023-09-28</td>\n      <td>0</td>\n      <td>2023-09-28</td>\n      <td>合约到期</td>\n    </tr>\n    <tr>\n      <th>10005130</th>\n      <td>510300C2309M04500</td>\n      <td>300ETF购9月4500</td>\n      <td>CO</td>\n      <td>XSHG</td>\n      <td>CNY</td>\n      <td>510300.XSHG</td>\n      <td>华泰柏瑞沪深300ETF</td>\n      <td>XSHG</td>\n      <td>ETF</td>\n      <td>4.50</td>\n      <td>...</td>\n      <td>0.1560</td>\n      <td>0.5470</td>\n      <td>0.0001</td>\n      <td>2023-09-27</td>\n      <td>2023-09-27</td>\n      <td>2023-09-27</td>\n      <td>2023-09-28</td>\n      <td>0</td>\n      <td>2023-09-28</td>\n      <td>合约到期</td>\n    </tr>\n  </tbody>\n</table>\n<p>31 rows × 24 columns</p>\n</div>"
     },
     "execution_count": 270,
     "metadata": {},
     "output_type": "execute_result"
    }
   ],
   "source": [
    "option_info_df.loc['10005100':'10005130']"
   ],
   "metadata": {
    "collapsed": false,
    "ExecuteTime": {
     "end_time": "2023-12-28T00:42:19.011400Z",
     "start_time": "2023-12-28T00:42:18.858747Z"
    }
   },
   "id": "53206826ed89d1b3"
  },
  {
   "cell_type": "code",
   "execution_count": null,
   "outputs": [],
   "source": [],
   "metadata": {
    "collapsed": false
   },
   "id": "505bd5a7b8e9b35c"
  }
 ],
 "metadata": {
  "kernelspec": {
   "display_name": "Python 3",
   "language": "python",
   "name": "python3"
  },
  "language_info": {
   "codemirror_mode": {
    "name": "ipython",
    "version": 2
   },
   "file_extension": ".py",
   "mimetype": "text/x-python",
   "name": "python",
   "nbconvert_exporter": "python",
   "pygments_lexer": "ipython2",
   "version": "2.7.6"
  }
 },
 "nbformat": 4,
 "nbformat_minor": 5
}
