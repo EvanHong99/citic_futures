{
 "cells": [
  {
   "cell_type": "code",
   "execution_count": null,
   "id": "initial_id",
   "metadata": {
    "collapsed": true
   },
   "outputs": [],
   "source": [
    "%load_ext autoreload\n",
    "%autoreload 2"
   ]
  },
  {
   "cell_type": "code",
   "execution_count": null,
   "outputs": [],
   "source": [
    "import logging\n",
    "\n",
    "import pandas as pd\n",
    "import numpy as np\n",
    "import os\n",
    "from typing import Union, List\n",
    "from datetime import datetime, time, timedelta\n",
    "from dateutil.relativedelta import relativedelta\n",
    "import matplotlib.pyplot as plt\n",
    "import pickle\n",
    "from statsmodels.regression.linear_model import OLS\n",
    "import statsmodels.api as sm\n",
    "\n",
    "from utils import calc_date2maturity, calc_time2maturity,plot_legend_outside\n",
    "from backtest.preprocessors.preprocess import LobTimePreprocessor, LobFeatureEngineering\n",
    "from backtest.predefined.macros import LobColTemplate, ColTemplate, CITICSF_ColTemplate\n",
    "from backtest.statistic_tools.statistics import calc_r_squared\n",
    "from backtest.utils import get_class_name\n",
    "\n",
    "from py_vollib_vectorized.implied_volatility import vectorized_implied_volatility\n",
    "from py_vollib_vectorized.greeks import delta, gamma, vega, theta, rho\n",
    "\n",
    "root = '/Users/hongyifan/Desktop/work/internship/citic_futures/20231226bid-ask-spread/'\n",
    "data_root = root + 'data/'\n",
    "option_data_root = root + 'data/Option/'\n",
    "future_data_root = root + 'data/Future/'\n",
    "etf_data_root = root + 'data/ETF/'\n",
    "res_root = root + 'res/'\n",
    "model_root=root+'models/'\n",
    "\n",
    "etf_future_symbol_dict = {\n",
    "    '510050.XSHG': 'IH',\n",
    "    '510300.XSHG': 'IF',\n",
    "    '510500.XSHG': 'IC',\n",
    "\n",
    "}\n",
    "\n",
    "trading_dates = np.array(\n",
    "    pd.read_csv(data_root + f'trading_dates_cn_2000-01-01_2024-12-31.csv')['trading_dates'].tolist(), dtype=str)\n",
    "\n",
    "ltp = LobTimePreprocessor()\n",
    "\n"
   ],
   "metadata": {
    "collapsed": false
   },
   "id": "1106875a5cdb79c9"
  },
  {
   "cell_type": "code",
   "execution_count": null,
   "outputs": [],
   "source": [],
   "metadata": {
    "collapsed": false
   },
   "id": "155dcbef8f5a4afa"
  },
  {
   "cell_type": "markdown",
   "source": [
    "# 循环遍历所有合约\n"
   ],
   "metadata": {
    "collapsed": false
   },
   "id": "2d521f60042d8ca3"
  },
  {
   "cell_type": "code",
   "execution_count": 3,
   "outputs": [],
   "source": [
    "# etf价格\n",
    "etf_price_dict = {}\n",
    "for udly_symbol in ['510050.XSHG', '510300.XSHG', '510500.XSHG']:\n",
    "    etf_price_dict[udly_symbol] = \\\n",
    "    pd.read_csv(data_root + \"ETF/\" + f\"data_etf_{udly_symbol}_2014-12-01_2023-11-28.csv\", usecols=['datetime', 'close'],\n",
    "                index_col='datetime', parse_dates=True)['close'].rename('etf_price_' + udly_symbol)"
   ],
   "metadata": {
    "collapsed": false
   },
   "id": "6e06d78192cb06f"
  },
  {
   "cell_type": "code",
   "execution_count": 4,
   "outputs": [],
   "source": [
    "# 无风险利率采用1年期国债收益率\n",
    "def get_rfr(interest_rate_df, date_, days2maturity):\n",
    "    idx = np.argmin(abs(interest_rate_df.columns - days2maturity))\n",
    "    return interest_rate_df.loc[date_].iloc[idx]\n",
    "\n",
    "\n",
    "interest_rate = pd.read_csv(data_root + f\"interest_rate.csv\", index_col=0).rename(columns={'ON': 1,  # over night\n",
    "                                                                                           '1W': 5,\n",
    "                                                                                           '2W': 10,\n",
    "                                                                                           '1M': 20,\n",
    "                                                                                           '3M': 60,\n",
    "                                                                                           '6M': 120,\n",
    "                                                                                           '9M': 180,\n",
    "                                                                                           '1Y': 240}) / 100"
   ],
   "metadata": {
    "collapsed": false
   },
   "id": "6cc73d7da3e602f"
  },
  {
   "cell_type": "code",
   "execution_count": 5,
   "outputs": [],
   "source": [
    "# 获取所有日期\n",
    "dates_list = os.listdir(option_data_root)\n",
    "dates_list.remove('.DS_Store')\n",
    "dates_list = sorted(dates_list)\n",
    "dates_list = pd.to_datetime(dates_list, format='%Y-%m-%d').astype(str).tolist()"
   ],
   "metadata": {
    "collapsed": false
   },
   "id": "c67fc0a30daa5edf"
  },
  {
   "cell_type": "code",
   "execution_count": null,
   "outputs": [],
   "source": [
    "train_start='2023-08-17'\n",
    "train_end='2023-09-27'\n",
    "valid_start=''\n",
    "valid_end=''\n",
    "test_start=''\n",
    "test_end=''"
   ],
   "metadata": {
    "collapsed": false
   },
   "id": "4917d366701c67a9"
  },
  {
   "cell_type": "code",
   "execution_count": 206,
   "outputs": [
    {
     "name": "stdout",
     "output_type": "stream",
     "text": [
      "option_info_df 中的expire_date是闭，即到期日为expire_date当天收盘\n",
      "/Users/hongyifan/Desktop/work/internship/citic_futures/20231226bid-ask-spread/data/Option/20230802/\n"
     ]
    }
   ],
   "source": [
    "from copy import deepcopy\n",
    "\n",
    "# 主函数：遍历所有csv计算iv\n",
    "option_info_df = pd.read_csv(data_root + 'etf_options_basic_info.csv')\n",
    "option_info_df['code'] = option_info_df['code'].apply(lambda x: x[:-5])\n",
    "option_info_df = option_info_df.set_index('code').sort_index()\n",
    "print(\"option_info_df 中的expire_date是闭，即到期日为expire_date当天收盘\")\n",
    "rfr = 0.03\n",
    "exclude = ['510050.csv', '510300.csv', '510500.csv']\n",
    "for date_ in dates_list:\n",
    "    date_ = '2023-08-02'\n",
    "    date_1 = date_.replace('-', '')\n",
    "    files = []\n",
    "    print(option_data_root + date_.replace('-', '') + '/')\n",
    "    for r, _, f in os.walk(option_data_root + date_.replace('-', '') + '/'):\n",
    "        for ff in f:\n",
    "            # 去掉中证1000股指期权\n",
    "            if not ff.startswith('.') and ff not in exclude and not ff.startswith('MO'):\n",
    "                files.append(ff)\n",
    "    option_symbol_list = [s[:-4] for s in files]\n",
    "    option_symbol_list_bkp = deepcopy(option_symbol_list)\n",
    "\n",
    "    for option_symbol in option_symbol_list_bkp:\n",
    "        option_symbol = '10005684'\n",
    "        # option_symbol = '10005679'\n",
    "\n",
    "        factors = pd.DataFrame()\n",
    "        if option_symbol not in option_symbol_list: continue\n",
    "        option_trading_code, expire_date, option_type, option_strike, option_underlying_symbol = option_info_df.loc[\n",
    "            option_symbol, ['trading_code', 'expire_date', 'contract_type', 'exercise_price',\n",
    "                            'underlying_symbol']].values\n",
    "        days2maturity = calc_date2maturity(current=date_, expiry=expire_date, trading_dates=trading_dates)  # 计算有多少天到期\n",
    "        rfr = get_rfr(interest_rate_df=interest_rate, date_=date_, days2maturity=days2maturity)  # risk free rate\n",
    "        # \n",
    "        # # 寻找相同mat和strike的对应期权\n",
    "        # if option_trading_code[6] == 'C':\n",
    "        #     option_trading_code1 = option_trading_code.replace('C', 'P')\n",
    "        # elif option_trading_code[6] == 'P':\n",
    "        #     option_trading_code1 = option_trading_code.replace('P', 'C')\n",
    "        # else:\n",
    "        #     raise ValueError()\n",
    "        # option_symbol1 = option_info_df.loc[option_info_df['trading_code'] == option_trading_code1].index.values[0]\n",
    "        # assert option_symbol1 + '.csv' in files\n",
    "        # option_symbol_list.remove(option_symbol)\n",
    "        # # option_symbol_list.remove(option_symbol1) # 不需要删掉相对的期权，多花一点时间重算一遍iv和greeks可以接受\n",
    "\n",
    "        # \n",
    "        # # 第一个期权\n",
    "        # option_price_df = pd.read_csv(option_data_root + date_.replace('-', '') + '/' + f'{option_symbol}.csv',\n",
    "        #                               parse_dates=True, index_col='serverTime')\n",
    "        # option_price_df = option_price_df.loc[~option_price_df['auctionLabel']]\n",
    "        # option_price_df = ltp.del_untrade_time(option_price_df, cut_tail=False)\n",
    "        # \n",
    "        # # 对应期权\n",
    "        # option_price_df1 = pd.read_csv(option_data_root + date_.replace('-', '') + '/' + f'{option_symbol1}.csv',\n",
    "        #                                parse_dates=True, index_col='serverTime')\n",
    "        # option_price_df1 = option_price_df1.loc[~option_price_df1['auctionLabel']]\n",
    "        # option_price_df1 = ltp.del_untrade_time(option_price_df1, cut_tail=False)\n",
    "        # \n",
    "        # option_price_dict = {}\n",
    "        # if option_type == 'CO':\n",
    "        #     option_price_dict['c'] = option_price_df\n",
    "        #     option_price_dict['p'] = option_price_df1\n",
    "        # else:\n",
    "        #     option_price_dict['p'] = option_price_df\n",
    "        #     option_price_dict['c'] = option_price_df1\n",
    "        #     \n",
    "    break\n"
   ],
   "metadata": {
    "collapsed": false
   },
   "id": "beb411ad9db99e81"
  }
 ],
 "metadata": {
  "kernelspec": {
   "display_name": "Python 3",
   "language": "python",
   "name": "python3"
  },
  "language_info": {
   "codemirror_mode": {
    "name": "ipython",
    "version": 2
   },
   "file_extension": ".py",
   "mimetype": "text/x-python",
   "name": "python",
   "nbconvert_exporter": "python",
   "pygments_lexer": "ipython2",
   "version": "2.7.6"
  }
 },
 "nbformat": 4,
 "nbformat_minor": 5
}
